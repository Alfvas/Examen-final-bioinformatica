{
 "cells": [
  {
   "cell_type": "markdown",
   "id": "9c2403ab-511f-4311-bd71-83fdd09ae391",
   "metadata": {},
   "source": [
    "# Examen Final\n",
    "\n",
    "El examen final del curso es un ejercicio practico en el cual vamos a utilizar la base de datos del Consorcio Internacional de Taxonomía Molecular del Cáncer de Mama, realizar algunos analisis y tratar de generar un modelo de machine learning que pueda predecir si con determinadas variables es posible que el paciente sobreviva o no."
   ]
  },
  {
   "cell_type": "markdown",
   "id": "56beec64-a2a2-4464-9e9a-1644aa388993",
   "metadata": {},
   "source": [
    "## Librerias\n",
    "Vamos a utilizar las siguientes librerias, recordemos validar el ambiente de Anaconda que estamos utilizando\n",
    "\n",
    "- Instalar la libreria  **scipy.stats** reiniciar el kernel y regresar aca"
   ]
  },
  {
   "cell_type": "code",
   "execution_count": 1,
   "id": "d84bd54d-5ac1-41cd-a2a8-6cfda1988e9c",
   "metadata": {},
   "outputs": [],
   "source": [
    "## Librerias\n",
    "import pandas as pd\n",
    "import matplotlib.pyplot as plt\n",
    "import seaborn as sns\n",
    "import numpy as np\n",
    "import scipy.stats as ss"
   ]
  },
  {
   "cell_type": "code",
   "execution_count": 1,
   "id": "0d657d0d-4bd4-41dd-bebf-448ed21e7ef6",
   "metadata": {},
   "outputs": [
    {
     "name": "stdout",
     "output_type": "stream",
     "text": [
      "Retrieving notices: ...working... done\n",
      "Collecting package metadata (current_repodata.json): ...working... done\n",
      "Solving environment: ...working... done\n",
      "\n",
      "## Package Plan ##\n",
      "\n",
      "  environment location: C:\\Users\\alfre\\anaconda3\n",
      "\n",
      "  added / updated specs:\n",
      "    - scipy\n",
      "\n",
      "\n",
      "The following packages will be downloaded:\n",
      "\n",
      "    package                    |            build\n",
      "    ---------------------------|-----------------\n",
      "    boltons-23.0.0             |   py39haa95532_0         421 KB\n",
      "    conda-23.3.1               |   py39haa95532_0         972 KB\n",
      "    jsonpatch-1.32             |     pyhd3eb1b0_0          15 KB\n",
      "    jsonpointer-2.1            |     pyhd3eb1b0_0           9 KB\n",
      "    pooch-1.4.0                |     pyhd3eb1b0_0          41 KB\n",
      "    scipy-1.10.0               |   py39h321e85e_1        18.7 MB\n",
      "    ------------------------------------------------------------\n",
      "                                           Total:        20.2 MB\n",
      "\n",
      "The following NEW packages will be INSTALLED:\n",
      "\n",
      "  appdirs            pkgs/main/noarch::appdirs-1.4.4-pyhd3eb1b0_0 \n",
      "  boltons            pkgs/main/win-64::boltons-23.0.0-py39haa95532_0 \n",
      "  icc_rt             pkgs/main/win-64::icc_rt-2022.1.0-h6049295_2 \n",
      "  jsonpatch          pkgs/main/noarch::jsonpatch-1.32-pyhd3eb1b0_0 \n",
      "  jsonpointer        pkgs/main/noarch::jsonpointer-2.1-pyhd3eb1b0_0 \n",
      "  pooch              pkgs/main/noarch::pooch-1.4.0-pyhd3eb1b0_0 \n",
      "  scipy              pkgs/main/win-64::scipy-1.10.0-py39h321e85e_1 \n",
      "\n",
      "The following packages will be UPDATED:\n",
      "\n",
      "  conda                               23.1.0-py39haa95532_0 --> 23.3.1-py39haa95532_0 \n",
      "\n",
      "\n",
      "\n",
      "Downloading and Extracting Packages\n",
      "\n",
      "scipy-1.10.0         | 18.7 MB   |            |   0% \n",
      "\n",
      "boltons-23.0.0       | 421 KB    |            |   0% \u001b[A\n",
      "\n",
      "\n",
      "jsonpatch-1.32       | 15 KB     |            |   0% \u001b[A\u001b[A\n",
      "\n",
      "\n",
      "\n",
      "jsonpointer-2.1      | 9 KB      |            |   0% \u001b[A\u001b[A\u001b[A\n",
      "\n",
      "\n",
      "\n",
      "\n",
      "conda-23.3.1         | 972 KB    |            |   0% \u001b[A\u001b[A\u001b[A\u001b[A\n",
      "\n",
      "\n",
      "\n",
      "\n",
      "\n",
      "pooch-1.4.0          | 41 KB     |            |   0% \u001b[A\u001b[A\u001b[A\u001b[A\u001b[A\n",
      "\n",
      "\n",
      "jsonpatch-1.32       | 15 KB     | ########## | 100% \u001b[A\u001b[A\n",
      "\n",
      "\n",
      "jsonpatch-1.32       | 15 KB     | ########## | 100% \u001b[A\u001b[A\n",
      "\n",
      "boltons-23.0.0       | 421 KB    | 3          |   4% \u001b[A\n",
      "\n",
      "\n",
      "\n",
      "\n",
      "conda-23.3.1         | 972 KB    | 1          |   2% \u001b[A\u001b[A\u001b[A\u001b[A\n",
      "\n",
      "\n",
      "\n",
      "jsonpointer-2.1      | 9 KB      | ########## | 100% \u001b[A\u001b[A\u001b[A\n",
      "\n",
      "\n",
      "\n",
      "jsonpointer-2.1      | 9 KB      | ########## | 100% \u001b[A\u001b[A\u001b[A\n",
      "scipy-1.10.0         | 18.7 MB   |            |   0% \n",
      "\n",
      "\n",
      "\n",
      "\n",
      "\n",
      "pooch-1.4.0          | 41 KB     | ###8       |  39% \u001b[A\u001b[A\u001b[A\u001b[A\u001b[A\n",
      "\n",
      "\n",
      "\n",
      "\n",
      "\n",
      "pooch-1.4.0          | 41 KB     | ########## | 100% \u001b[A\u001b[A\u001b[A\u001b[A\u001b[A\n",
      "scipy-1.10.0         | 18.7 MB   | 1          |   1% \n",
      "\n",
      "boltons-23.0.0       | 421 KB    | ########## | 100% \u001b[A\n",
      "\n",
      "boltons-23.0.0       | 421 KB    | ########## | 100% \u001b[A\n",
      "scipy-1.10.0         | 18.7 MB   | 3          |   4% \n",
      "scipy-1.10.0         | 18.7 MB   | #4         |  14% \n",
      "\n",
      "\n",
      "\n",
      "\n",
      "conda-23.3.1         | 972 KB    | ########## | 100% \u001b[A\u001b[A\u001b[A\u001b[A\n",
      "\n",
      "\n",
      "\n",
      "\n",
      "conda-23.3.1         | 972 KB    | ########## | 100% \u001b[A\u001b[A\u001b[A\u001b[A\n",
      "scipy-1.10.0         | 18.7 MB   | ##1        |  21% \n",
      "scipy-1.10.0         | 18.7 MB   | ####4      |  44% \n",
      "scipy-1.10.0         | 18.7 MB   | #######2   |  73% \n",
      "scipy-1.10.0         | 18.7 MB   | #########3 |  94% \n",
      "scipy-1.10.0         | 18.7 MB   | ########## | 100% \n",
      "                                                     \n",
      "\n",
      "\n",
      "                                                     \u001b[A\n",
      "\n",
      "\n",
      "                                                     \u001b[A\u001b[A\n",
      "\n",
      "\n",
      "\n",
      "                                                     \u001b[A\u001b[A\u001b[A\n",
      "\n",
      "\n",
      "\n",
      "\n",
      "                                                     \u001b[A\u001b[A\u001b[A\u001b[A\n",
      "\n",
      "\n",
      "\n",
      "\n",
      "\n",
      "                                                     \u001b[A\u001b[A\u001b[A\u001b[A\u001b[A\n",
      "\n",
      "Preparing transaction: ...working... done\n",
      "Verifying transaction: ...working... done\n",
      "Executing transaction: ...working... done\n",
      "\n",
      "Note: you may need to restart the kernel to use updated packages.\n"
     ]
    }
   ],
   "source": [
    "conda install scipy"
   ]
  },
  {
   "cell_type": "markdown",
   "id": "f75937ed-2cac-4b9c-8ecb-e3125a3a6583",
   "metadata": {},
   "source": [
    "\n",
    "## Breast Cancer (METABRIC, Nature 2012 & Nat Commun 2016)\n",
    "\n",
    "\n",
    "\n",
    "\n",
    "Origen del dataset (https://www.cbioportal.org/study/clinicalData?id=brca_metabric)\n",
    "\n",
    "La base de datos del Consorcio Internacional de Taxonomía Molecular del Cáncer de Mama (METABRIC) es un proyecto Canadá-Reino Unido que contiene datos de secuenciación específica de 1980 muestras primarias de cáncer de mama. Los datos clínicos y genómicos se descargaron de cBioPortal.\n",
    "\n",
    "El conjunto de datos fue recopilado por el profesor Carlos Caldas del Cambridge Research Institute y el profesor Sam Aparicio del British Columbia Cancer Center en Canadá y publicado en Nature Communications (Pereira et al., 2016). También apareció en varios artículos, incluidos Nature y otros:\n",
    "- [Associations between genomic stratification of breast cancer and centrally reviewed tumor pathology in the METABRIC cohort](https://www.nature.com/articles/s41523-018-0056-8)\n",
    "- [Predicting Outcomes of Hormone and Chemotherapy in the Molecular Taxonomy of Breast Cancer International Consortium (METABRIC) Study by Biochemically-inspired Machine Learning](https://www.ncbi.nlm.nih.gov/pmc/articles/PMC5461908/)"
   ]
  },
  {
   "cell_type": "markdown",
   "id": "3ae55bf3-9a46-4f7d-8889-ecd118fe241d",
   "metadata": {},
   "source": [
    "## Desde CBioPortal:\n",
    "\n",
    "- Clinical attributes in the dataset: 31 values\n",
    "- Genetic attributes in the dataset: The genetics part of the dataset contains m-RNA levels z-score for 331 genes, and mutation for 175 genes.\n",
    "\n",
    "### Genetic attributes in the dataset:\n",
    "\n",
    "| Name                           | Type   | Description                                                                                                                                                                                                                                                                                                                                                                                                                                                                                        |\n",
    "| ------------------------------ | ------ | -------------------------------------------------------------------------------------------------------------------------------------------------------------------------------------------------------------------------------------------------------------------------------------------------------------------------------------------------------------------------------------------------------------------------------------------------------------------------------------------------- |\n",
    "| patient_id                     | object | Patient ID                                                                                                                                                                                                                                                                                                                                                                                                                                                                                         |\n",
    "| age_at_diagnosis               | float  | Age of the patient at diagnosis time                                                                                                                                                                                                                                                                                                                                                                                                                                                               |\n",
    "| type_of_breast_surgery         | object | Breast cancer surgery type: 1- MASTECTOMY, which refers to a surgery to remove all breast tissue from a breast as a way to treat or prevent breast cancer. 2- BREAST CONSERVING, which refers to a urgery where only the part of the breast that has cancer is removed                                                                                                                                                                                                                             |\n",
    "| cancer_type                    | object | Breast cancer types: 1- Breast Cancer or 2- Breast Sarcoma                                                                                                                                                                                                                                                                                                                                                                                                                                         |\n",
    "| cancer_type_detailed           | object | Detailed Breast cancer types: 1- Breast Invasive Ductal Carcinoma 2- Breast Mixed Ductal and Lobular Carcinoma 3- Breast Invasive Lobular Carcinoma 4- Breast Invasive Mixed Mucinous Carcinoma 5- Metaplastic Breast Cancer                                                                                                                                                                                                                                                                       |\n",
    "| cellularity                    | object | Cancer cellularity post chemotherapy, which refers to the amount of tumor cells in the specimen and their arrangement into clusters                                                                                                                                                                                                                                                                                                                                                                |\n",
    "| chemotherapy                   | int    | Whether or not the patient had chemotherapy as a treatment (yes/no)                                                                                                                                                                                                                                                                                                                                                                                                                                |\n",
    "| pam50_+_claudin-low_subtype    | object | Pam 50: is a tumor profiling test that helps show whether some estrogen receptor-positive (ER-positive), HER2-negative breast cancers are likely to metastasize (when breast cancer spreads to other organs). The claudin-low breast cancer subtype is defined by gene expression characteristics, most prominently: Low expression of cell–cell adhesion genes, high expression of epithelial–mesenchymal transition (EMT) genes, and stem cell-like/less differentiated gene expression patterns |\n",
    "| cohort                         | float  | Cohort is a group of subjects who share a defining characteristic (It takes a value from 1 to 5)                                                                                                                                                                                                                                                                                                                                                                                                   |\n",
    "| er_status_measured_by_ihc      | float  | To assess if estrogen receptors are expressed on cancer cells by using immune-histochemistry (a dye used in pathology that targets specific antigen, if it is there, it will give a color, it is not there, the tissue on the slide will be colored) (positive/negative)                                                                                                                                                                                                                           |\n",
    "| er_status                      | object | Cancer cells are positive or negative for estrogen receptors                                                                                                                                                                                                                                                                                                                                                                                                                                       |\n",
    "| neoplasm_histologic_grade      | int    | Determined by pathology by looking the nature of the cells, do they look aggressive or not (It takes a value from 1 to 3)                                                                                                                                                                                                                                                                                                                                                                          |\n",
    "| her2_status_measured_by_snp6   | object | To assess if the cancer positive for HER2 or not by using advance molecular techniques (Type of next generation sequencing)                                                                                                                                                                                                                                                                                                                                                                        |\n",
    "| her2_status                    | object | Whether the cancer is positive or negative for HER2                                                                                                                                                                                                                                                                                                                                                                                                                                                |\n",
    "| tumor_other_histologic_subtype | object | Type of the cancer based on microscopic examination of the cancer tissue (It takes a value of 'Ductal/NST', 'Mixed', 'Lobular', 'Tubular/ cribriform', 'Mucinous', 'Medullary', 'Other', 'Metaplastic' )                                                                                                                                                                                                                                                                                           |\n",
    "| hormone_therapy                | int    | Whether or not the patient had hormonal as a treatment (yes/no)                                                                                                                                                                                                                                                                                                                                                                                                                                    |\n",
    "| inferred_menopausal_state      | object | Whether the patient is is post menopausal or not (post/pre)                                                                                                                                                                                                                                                                                                                                                                                                                                        |\n",
    "| integrative_cluster            | object | Molecular subtype of the cancer based on some gene expression (It takes a value from '4ER+', '3', '9', '7', '4ER-', '5', '8', '10', '1', '2', '6')                                                                                                                                                                                                                                                                                                                                                 |\n",
    "| primary_tumor_laterality       | object | Whether it is involving the right breast or the left breast                                                                                                                                                                                                                                                                                                                                                                                                                                        |\n",
    "| lymph_nodes_examined_positive  | float  | To take samples of the lymph node during the surgery and see if there were involved by the cancer                                                                                                                                                                                                                                                                                                                                                                                                  |\n",
    "| mutation_count                 | float  | Number of gene that has relevant mutations                                                                                                                                                                                                                                                                                                                                                                                                                                                         |\n",
    "| nottingham_prognostic_index    | float  | It is used to determine prognosis following surgery for breast cancer. Its value is calculated using three pathological criteria: the size of the tumour; the number of involved lymph nodes; and the grade of the tumour.                                                                                                                                                                                                                                                                         |\n",
    "| oncotree_code                  | object | The OncoTree is an open-source ontology that was developed at Memorial Sloan Kettering Cancer Center (MSK) for standardizing cancer type diagnosis from a clinical perspective by assigning each diagnosis a unique OncoTree code.                                                                                                                                                                                                                                                                 |\n",
    "| overall_survival_months        | float  | Duration from the time of the intervention to death                                                                                                                                                                                                                                                                                                                                                                                                                                                |\n",
    "| overall_survival               | object | Target variable wether the patient is alive of dead.                                                                                                                                                                                                                                                                                                                                                                                                                                               |\n",
    "| pr_status                      | object | Cancer cells are positive or negative for progesterone receptors                                                                                                                                                                                                                                                                                                                                                                                                                                   |\n",
    "| radio_therapy                  | int    | Whether or not the patient had radio as a treatment (yes/no)                                                                                                                                                                                                                                                                                                                                                                                                                                       |\n",
    "| 3-gene_classifier_subtype      | object | Three Gene classifier subtype It takes a value from 'ER-/HER2-', 'ER+/HER2- High Prolif', nan, 'ER+/HER2- Low Prolif','HER2+'                                                                                                                                                                                                                                                                                                                                                                      |\n",
    "| tumor_size                     | float  | Tumor size measured by imaging techniques                                                                                                                                                                                                                                                                                                                                                                                                                                                          |\n",
    "| tumor_stage                    | float  | Stage of the cancer based on the involvement of surrounding structures, lymph nodes and distant spread                                                                                                                                                                                                                                                                                                                                                                                             |\n",
    "| death_from_cancer              | int    | Wether the patient's death was due to cancer or not (yes/no)                                                                                                                                                                                                                                                                                                                                                                                                                                       |\n",
    "\n",
    "\n",
    "### Genetic attributes in the dataset:\n",
    "The genetics part of the dataset contains m-RNA levels z-score for 331 genes, and mutation for 175 genes.\n",
    "\n",
    "#### What are mRNA?\n",
    "The DNA molecules attached to each slide act as probes to detect gene expression, which is also known as the transcriptome or the set of messenger RNA (mRNA) transcripts expressed by a group of genes. To perform a microarray analysis, mRNA molecules are typically collected from both an experimental sample and a reference sample.\n",
    "\n",
    "#### What are mRNA Z-Scores?\n",
    "For mRNA expression data, The calculations of the relative expression of an individual gene and tumor to the gene's expression distribution in a reference population is done. That reference population is all samples in the study . The returned value indicates the number of standard deviations away from the mean of expression in the reference population (Z-score). This measure is useful to determine whether a gene is up- or down-regulated relative to the normal samples or all other tumor samples.\n",
    "\n",
    "The formula is :\n",
    "```\n",
    "z = (expression in tumor sample - mean expression in reference sample) / standard deviation of expression in reference sample\n",
    "```"
   ]
  },
  {
   "cell_type": "markdown",
   "id": "563d4063-87fe-49f1-8de9-c3a58ebdbcfe",
   "metadata": {},
   "source": [
    "## 1) Exploratory Data Analysis (EDA)"
   ]
  },
  {
   "cell_type": "markdown",
   "id": "7935df45-8421-43f0-b662-780443f49e18",
   "metadata": {},
   "source": [
    "### Cargando la data"
   ]
  },
  {
   "cell_type": "code",
   "execution_count": 2,
   "id": "24db9b80-92fb-4e90-809e-fd650ae724c8",
   "metadata": {},
   "outputs": [
    {
     "name": "stderr",
     "output_type": "stream",
     "text": [
      "C:\\Users\\alfre\\AppData\\Local\\Temp\\ipykernel_13612\\371503695.py:1: DtypeWarning: Columns (678,688,690,692) have mixed types. Specify dtype option on import or set low_memory=False.\n",
      "  data = pd.read_csv(\"METABRIC_RNA_Mutation.csv\")\n"
     ]
    }
   ],
   "source": [
    "data = pd.read_csv(\"METABRIC_RNA_Mutation.csv\")"
   ]
  },
  {
   "cell_type": "markdown",
   "id": "52b835c9-6ed2-41da-aee2-0ada9c1b8c2a",
   "metadata": {},
   "source": [
    "Dimensiones del data set, utilizamos la funcion shape(<filas>, <columnas>)\n",
    "    \n",
    ">  **Pregunta Examen**: Imprime las dimenciones"
   ]
  },
  {
   "cell_type": "code",
   "execution_count": 3,
   "id": "52b1ee77-383c-438c-a807-01364658b04c",
   "metadata": {},
   "outputs": [
    {
     "data": {
      "text/plain": [
       "(1904, 693)"
      ]
     },
     "execution_count": 3,
     "metadata": {},
     "output_type": "execute_result"
    }
   ],
   "source": [
    "# tu codigo aqui:\n",
    "data.shape"
   ]
  },
  {
   "cell_type": "code",
   "execution_count": 4,
   "id": "572f1e37-c2b2-47da-b4d9-5e4245f017ad",
   "metadata": {},
   "outputs": [
    {
     "data": {
      "text/html": [
       "<div>\n",
       "<style scoped>\n",
       "    .dataframe tbody tr th:only-of-type {\n",
       "        vertical-align: middle;\n",
       "    }\n",
       "\n",
       "    .dataframe tbody tr th {\n",
       "        vertical-align: top;\n",
       "    }\n",
       "\n",
       "    .dataframe thead th {\n",
       "        text-align: right;\n",
       "    }\n",
       "</style>\n",
       "<table border=\"1\" class=\"dataframe\">\n",
       "  <thead>\n",
       "    <tr style=\"text-align: right;\">\n",
       "      <th></th>\n",
       "      <th>patient_id</th>\n",
       "      <th>age_at_diagnosis</th>\n",
       "      <th>type_of_breast_surgery</th>\n",
       "      <th>cancer_type</th>\n",
       "      <th>cancer_type_detailed</th>\n",
       "      <th>cellularity</th>\n",
       "      <th>chemotherapy</th>\n",
       "      <th>pam50_+_claudin-low_subtype</th>\n",
       "      <th>cohort</th>\n",
       "      <th>er_status_measured_by_ihc</th>\n",
       "      <th>...</th>\n",
       "      <th>mtap_mut</th>\n",
       "      <th>ppp2cb_mut</th>\n",
       "      <th>smarcd1_mut</th>\n",
       "      <th>nras_mut</th>\n",
       "      <th>ndfip1_mut</th>\n",
       "      <th>hras_mut</th>\n",
       "      <th>prps2_mut</th>\n",
       "      <th>smarcb1_mut</th>\n",
       "      <th>stmn2_mut</th>\n",
       "      <th>siah1_mut</th>\n",
       "    </tr>\n",
       "  </thead>\n",
       "  <tbody>\n",
       "    <tr>\n",
       "      <th>0</th>\n",
       "      <td>0</td>\n",
       "      <td>75.65</td>\n",
       "      <td>MASTECTOMY</td>\n",
       "      <td>Breast Cancer</td>\n",
       "      <td>Breast Invasive Ductal Carcinoma</td>\n",
       "      <td>NaN</td>\n",
       "      <td>0</td>\n",
       "      <td>claudin-low</td>\n",
       "      <td>1.0</td>\n",
       "      <td>Positve</td>\n",
       "      <td>...</td>\n",
       "      <td>0</td>\n",
       "      <td>0</td>\n",
       "      <td>0</td>\n",
       "      <td>0</td>\n",
       "      <td>0</td>\n",
       "      <td>0</td>\n",
       "      <td>0</td>\n",
       "      <td>0</td>\n",
       "      <td>0</td>\n",
       "      <td>0</td>\n",
       "    </tr>\n",
       "    <tr>\n",
       "      <th>1</th>\n",
       "      <td>2</td>\n",
       "      <td>43.19</td>\n",
       "      <td>BREAST CONSERVING</td>\n",
       "      <td>Breast Cancer</td>\n",
       "      <td>Breast Invasive Ductal Carcinoma</td>\n",
       "      <td>High</td>\n",
       "      <td>0</td>\n",
       "      <td>LumA</td>\n",
       "      <td>1.0</td>\n",
       "      <td>Positve</td>\n",
       "      <td>...</td>\n",
       "      <td>0</td>\n",
       "      <td>0</td>\n",
       "      <td>0</td>\n",
       "      <td>0</td>\n",
       "      <td>0</td>\n",
       "      <td>0</td>\n",
       "      <td>0</td>\n",
       "      <td>0</td>\n",
       "      <td>0</td>\n",
       "      <td>0</td>\n",
       "    </tr>\n",
       "    <tr>\n",
       "      <th>2</th>\n",
       "      <td>5</td>\n",
       "      <td>48.87</td>\n",
       "      <td>MASTECTOMY</td>\n",
       "      <td>Breast Cancer</td>\n",
       "      <td>Breast Invasive Ductal Carcinoma</td>\n",
       "      <td>High</td>\n",
       "      <td>1</td>\n",
       "      <td>LumB</td>\n",
       "      <td>1.0</td>\n",
       "      <td>Positve</td>\n",
       "      <td>...</td>\n",
       "      <td>0</td>\n",
       "      <td>0</td>\n",
       "      <td>0</td>\n",
       "      <td>0</td>\n",
       "      <td>0</td>\n",
       "      <td>0</td>\n",
       "      <td>0</td>\n",
       "      <td>0</td>\n",
       "      <td>0</td>\n",
       "      <td>0</td>\n",
       "    </tr>\n",
       "    <tr>\n",
       "      <th>3</th>\n",
       "      <td>6</td>\n",
       "      <td>47.68</td>\n",
       "      <td>MASTECTOMY</td>\n",
       "      <td>Breast Cancer</td>\n",
       "      <td>Breast Mixed Ductal and Lobular Carcinoma</td>\n",
       "      <td>Moderate</td>\n",
       "      <td>1</td>\n",
       "      <td>LumB</td>\n",
       "      <td>1.0</td>\n",
       "      <td>Positve</td>\n",
       "      <td>...</td>\n",
       "      <td>0</td>\n",
       "      <td>0</td>\n",
       "      <td>0</td>\n",
       "      <td>0</td>\n",
       "      <td>0</td>\n",
       "      <td>0</td>\n",
       "      <td>0</td>\n",
       "      <td>0</td>\n",
       "      <td>0</td>\n",
       "      <td>0</td>\n",
       "    </tr>\n",
       "    <tr>\n",
       "      <th>4</th>\n",
       "      <td>8</td>\n",
       "      <td>76.97</td>\n",
       "      <td>MASTECTOMY</td>\n",
       "      <td>Breast Cancer</td>\n",
       "      <td>Breast Mixed Ductal and Lobular Carcinoma</td>\n",
       "      <td>High</td>\n",
       "      <td>1</td>\n",
       "      <td>LumB</td>\n",
       "      <td>1.0</td>\n",
       "      <td>Positve</td>\n",
       "      <td>...</td>\n",
       "      <td>0</td>\n",
       "      <td>0</td>\n",
       "      <td>0</td>\n",
       "      <td>0</td>\n",
       "      <td>0</td>\n",
       "      <td>0</td>\n",
       "      <td>0</td>\n",
       "      <td>0</td>\n",
       "      <td>0</td>\n",
       "      <td>0</td>\n",
       "    </tr>\n",
       "  </tbody>\n",
       "</table>\n",
       "<p>5 rows × 693 columns</p>\n",
       "</div>"
      ],
      "text/plain": [
       "   patient_id  age_at_diagnosis type_of_breast_surgery    cancer_type  \\\n",
       "0           0             75.65             MASTECTOMY  Breast Cancer   \n",
       "1           2             43.19      BREAST CONSERVING  Breast Cancer   \n",
       "2           5             48.87             MASTECTOMY  Breast Cancer   \n",
       "3           6             47.68             MASTECTOMY  Breast Cancer   \n",
       "4           8             76.97             MASTECTOMY  Breast Cancer   \n",
       "\n",
       "                        cancer_type_detailed cellularity  chemotherapy  \\\n",
       "0           Breast Invasive Ductal Carcinoma         NaN             0   \n",
       "1           Breast Invasive Ductal Carcinoma        High             0   \n",
       "2           Breast Invasive Ductal Carcinoma        High             1   \n",
       "3  Breast Mixed Ductal and Lobular Carcinoma    Moderate             1   \n",
       "4  Breast Mixed Ductal and Lobular Carcinoma        High             1   \n",
       "\n",
       "  pam50_+_claudin-low_subtype  cohort er_status_measured_by_ihc  ... mtap_mut  \\\n",
       "0                 claudin-low     1.0                   Positve  ...        0   \n",
       "1                        LumA     1.0                   Positve  ...        0   \n",
       "2                        LumB     1.0                   Positve  ...        0   \n",
       "3                        LumB     1.0                   Positve  ...        0   \n",
       "4                        LumB     1.0                   Positve  ...        0   \n",
       "\n",
       "   ppp2cb_mut smarcd1_mut nras_mut ndfip1_mut  hras_mut prps2_mut smarcb1_mut  \\\n",
       "0           0           0        0          0         0         0           0   \n",
       "1           0           0        0          0         0         0           0   \n",
       "2           0           0        0          0         0         0           0   \n",
       "3           0           0        0          0         0         0           0   \n",
       "4           0           0        0          0         0         0           0   \n",
       "\n",
       "  stmn2_mut  siah1_mut  \n",
       "0         0          0  \n",
       "1         0          0  \n",
       "2         0          0  \n",
       "3         0          0  \n",
       "4         0          0  \n",
       "\n",
       "[5 rows x 693 columns]"
      ]
     },
     "execution_count": 4,
     "metadata": {},
     "output_type": "execute_result"
    }
   ],
   "source": [
    "## head()\n",
    "data.head()"
   ]
  },
  {
   "cell_type": "markdown",
   "id": "3d66f777-f950-4842-8857-40bea0c8f676",
   "metadata": {},
   "source": [
    "### Explorando la data clinica\n",
    "En las siguientes celdas vamops a generar el data frame da pandas `data_clinica`, este dataset contiene unicamente las variables clinicas de el dataset. A lo largo de el examen vamos a utilizar el dataset."
   ]
  },
  {
   "cell_type": "code",
   "execution_count": 5,
   "id": "5e15f33d-1b29-4ab1-8056-2b5427e37001",
   "metadata": {},
   "outputs": [
    {
     "name": "stdout",
     "output_type": "stream",
     "text": [
      "Index(['patient_id', 'age_at_diagnosis', 'type_of_breast_surgery',\n",
      "       'cancer_type', 'cancer_type_detailed', 'cellularity', 'chemotherapy',\n",
      "       'pam50_+_claudin-low_subtype', 'cohort', 'er_status_measured_by_ihc',\n",
      "       'er_status', 'neoplasm_histologic_grade',\n",
      "       'her2_status_measured_by_snp6', 'her2_status',\n",
      "       'tumor_other_histologic_subtype', 'hormone_therapy',\n",
      "       'inferred_menopausal_state', 'integrative_cluster',\n",
      "       'primary_tumor_laterality', 'lymph_nodes_examined_positive',\n",
      "       'mutation_count', 'nottingham_prognostic_index', 'oncotree_code',\n",
      "       'overall_survival_months', 'overall_survival', 'pr_status',\n",
      "       'radio_therapy', '3-gene_classifier_subtype', 'tumor_size',\n",
      "       'tumor_stage', 'death_from_cancer'],\n",
      "      dtype='object')\n"
     ]
    }
   ],
   "source": [
    "columnas_data_clinica = data.columns[:31]\n",
    "print(columnas_data_clinica)"
   ]
  },
  {
   "cell_type": "code",
   "execution_count": 6,
   "id": "f05eea49-471e-4a38-beed-50d6ddef5f74",
   "metadata": {},
   "outputs": [],
   "source": [
    "data_clinica = data[columnas_data_clinica].copy()"
   ]
  },
  {
   "cell_type": "code",
   "execution_count": 7,
   "id": "44b74e15-4b45-44a5-a620-4cb8580e240f",
   "metadata": {},
   "outputs": [
    {
     "data": {
      "text/plain": [
       "(1904, 31)"
      ]
     },
     "execution_count": 7,
     "metadata": {},
     "output_type": "execute_result"
    }
   ],
   "source": [
    "data_clinica.shape"
   ]
  },
  {
   "cell_type": "code",
   "execution_count": 8,
   "id": "97d668dd-9647-4567-a724-f99cbe757d0e",
   "metadata": {},
   "outputs": [
    {
     "data": {
      "text/html": [
       "<div>\n",
       "<style scoped>\n",
       "    .dataframe tbody tr th:only-of-type {\n",
       "        vertical-align: middle;\n",
       "    }\n",
       "\n",
       "    .dataframe tbody tr th {\n",
       "        vertical-align: top;\n",
       "    }\n",
       "\n",
       "    .dataframe thead th {\n",
       "        text-align: right;\n",
       "    }\n",
       "</style>\n",
       "<table border=\"1\" class=\"dataframe\">\n",
       "  <thead>\n",
       "    <tr style=\"text-align: right;\">\n",
       "      <th></th>\n",
       "      <th>patient_id</th>\n",
       "      <th>age_at_diagnosis</th>\n",
       "      <th>type_of_breast_surgery</th>\n",
       "      <th>cancer_type</th>\n",
       "      <th>cancer_type_detailed</th>\n",
       "      <th>cellularity</th>\n",
       "      <th>chemotherapy</th>\n",
       "      <th>pam50_+_claudin-low_subtype</th>\n",
       "      <th>cohort</th>\n",
       "      <th>er_status_measured_by_ihc</th>\n",
       "      <th>...</th>\n",
       "      <th>nottingham_prognostic_index</th>\n",
       "      <th>oncotree_code</th>\n",
       "      <th>overall_survival_months</th>\n",
       "      <th>overall_survival</th>\n",
       "      <th>pr_status</th>\n",
       "      <th>radio_therapy</th>\n",
       "      <th>3-gene_classifier_subtype</th>\n",
       "      <th>tumor_size</th>\n",
       "      <th>tumor_stage</th>\n",
       "      <th>death_from_cancer</th>\n",
       "    </tr>\n",
       "  </thead>\n",
       "  <tbody>\n",
       "    <tr>\n",
       "      <th>0</th>\n",
       "      <td>0</td>\n",
       "      <td>75.65</td>\n",
       "      <td>MASTECTOMY</td>\n",
       "      <td>Breast Cancer</td>\n",
       "      <td>Breast Invasive Ductal Carcinoma</td>\n",
       "      <td>NaN</td>\n",
       "      <td>0</td>\n",
       "      <td>claudin-low</td>\n",
       "      <td>1.0</td>\n",
       "      <td>Positve</td>\n",
       "      <td>...</td>\n",
       "      <td>6.044</td>\n",
       "      <td>IDC</td>\n",
       "      <td>140.500000</td>\n",
       "      <td>1</td>\n",
       "      <td>Negative</td>\n",
       "      <td>1</td>\n",
       "      <td>ER-/HER2-</td>\n",
       "      <td>22.0</td>\n",
       "      <td>2.0</td>\n",
       "      <td>Living</td>\n",
       "    </tr>\n",
       "    <tr>\n",
       "      <th>1</th>\n",
       "      <td>2</td>\n",
       "      <td>43.19</td>\n",
       "      <td>BREAST CONSERVING</td>\n",
       "      <td>Breast Cancer</td>\n",
       "      <td>Breast Invasive Ductal Carcinoma</td>\n",
       "      <td>High</td>\n",
       "      <td>0</td>\n",
       "      <td>LumA</td>\n",
       "      <td>1.0</td>\n",
       "      <td>Positve</td>\n",
       "      <td>...</td>\n",
       "      <td>4.020</td>\n",
       "      <td>IDC</td>\n",
       "      <td>84.633333</td>\n",
       "      <td>1</td>\n",
       "      <td>Positive</td>\n",
       "      <td>1</td>\n",
       "      <td>ER+/HER2- High Prolif</td>\n",
       "      <td>10.0</td>\n",
       "      <td>1.0</td>\n",
       "      <td>Living</td>\n",
       "    </tr>\n",
       "    <tr>\n",
       "      <th>2</th>\n",
       "      <td>5</td>\n",
       "      <td>48.87</td>\n",
       "      <td>MASTECTOMY</td>\n",
       "      <td>Breast Cancer</td>\n",
       "      <td>Breast Invasive Ductal Carcinoma</td>\n",
       "      <td>High</td>\n",
       "      <td>1</td>\n",
       "      <td>LumB</td>\n",
       "      <td>1.0</td>\n",
       "      <td>Positve</td>\n",
       "      <td>...</td>\n",
       "      <td>4.030</td>\n",
       "      <td>IDC</td>\n",
       "      <td>163.700000</td>\n",
       "      <td>0</td>\n",
       "      <td>Positive</td>\n",
       "      <td>0</td>\n",
       "      <td>NaN</td>\n",
       "      <td>15.0</td>\n",
       "      <td>2.0</td>\n",
       "      <td>Died of Disease</td>\n",
       "    </tr>\n",
       "    <tr>\n",
       "      <th>3</th>\n",
       "      <td>6</td>\n",
       "      <td>47.68</td>\n",
       "      <td>MASTECTOMY</td>\n",
       "      <td>Breast Cancer</td>\n",
       "      <td>Breast Mixed Ductal and Lobular Carcinoma</td>\n",
       "      <td>Moderate</td>\n",
       "      <td>1</td>\n",
       "      <td>LumB</td>\n",
       "      <td>1.0</td>\n",
       "      <td>Positve</td>\n",
       "      <td>...</td>\n",
       "      <td>4.050</td>\n",
       "      <td>MDLC</td>\n",
       "      <td>164.933333</td>\n",
       "      <td>1</td>\n",
       "      <td>Positive</td>\n",
       "      <td>1</td>\n",
       "      <td>NaN</td>\n",
       "      <td>25.0</td>\n",
       "      <td>2.0</td>\n",
       "      <td>Living</td>\n",
       "    </tr>\n",
       "    <tr>\n",
       "      <th>4</th>\n",
       "      <td>8</td>\n",
       "      <td>76.97</td>\n",
       "      <td>MASTECTOMY</td>\n",
       "      <td>Breast Cancer</td>\n",
       "      <td>Breast Mixed Ductal and Lobular Carcinoma</td>\n",
       "      <td>High</td>\n",
       "      <td>1</td>\n",
       "      <td>LumB</td>\n",
       "      <td>1.0</td>\n",
       "      <td>Positve</td>\n",
       "      <td>...</td>\n",
       "      <td>6.080</td>\n",
       "      <td>MDLC</td>\n",
       "      <td>41.366667</td>\n",
       "      <td>0</td>\n",
       "      <td>Positive</td>\n",
       "      <td>1</td>\n",
       "      <td>ER+/HER2- High Prolif</td>\n",
       "      <td>40.0</td>\n",
       "      <td>2.0</td>\n",
       "      <td>Died of Disease</td>\n",
       "    </tr>\n",
       "  </tbody>\n",
       "</table>\n",
       "<p>5 rows × 31 columns</p>\n",
       "</div>"
      ],
      "text/plain": [
       "   patient_id  age_at_diagnosis type_of_breast_surgery    cancer_type  \\\n",
       "0           0             75.65             MASTECTOMY  Breast Cancer   \n",
       "1           2             43.19      BREAST CONSERVING  Breast Cancer   \n",
       "2           5             48.87             MASTECTOMY  Breast Cancer   \n",
       "3           6             47.68             MASTECTOMY  Breast Cancer   \n",
       "4           8             76.97             MASTECTOMY  Breast Cancer   \n",
       "\n",
       "                        cancer_type_detailed cellularity  chemotherapy  \\\n",
       "0           Breast Invasive Ductal Carcinoma         NaN             0   \n",
       "1           Breast Invasive Ductal Carcinoma        High             0   \n",
       "2           Breast Invasive Ductal Carcinoma        High             1   \n",
       "3  Breast Mixed Ductal and Lobular Carcinoma    Moderate             1   \n",
       "4  Breast Mixed Ductal and Lobular Carcinoma        High             1   \n",
       "\n",
       "  pam50_+_claudin-low_subtype  cohort er_status_measured_by_ihc  ...  \\\n",
       "0                 claudin-low     1.0                   Positve  ...   \n",
       "1                        LumA     1.0                   Positve  ...   \n",
       "2                        LumB     1.0                   Positve  ...   \n",
       "3                        LumB     1.0                   Positve  ...   \n",
       "4                        LumB     1.0                   Positve  ...   \n",
       "\n",
       "  nottingham_prognostic_index  oncotree_code overall_survival_months  \\\n",
       "0                       6.044            IDC              140.500000   \n",
       "1                       4.020            IDC               84.633333   \n",
       "2                       4.030            IDC              163.700000   \n",
       "3                       4.050           MDLC              164.933333   \n",
       "4                       6.080           MDLC               41.366667   \n",
       "\n",
       "  overall_survival pr_status  radio_therapy 3-gene_classifier_subtype  \\\n",
       "0                1  Negative              1                 ER-/HER2-   \n",
       "1                1  Positive              1     ER+/HER2- High Prolif   \n",
       "2                0  Positive              0                       NaN   \n",
       "3                1  Positive              1                       NaN   \n",
       "4                0  Positive              1     ER+/HER2- High Prolif   \n",
       "\n",
       "  tumor_size tumor_stage  death_from_cancer  \n",
       "0       22.0         2.0             Living  \n",
       "1       10.0         1.0             Living  \n",
       "2       15.0         2.0    Died of Disease  \n",
       "3       25.0         2.0             Living  \n",
       "4       40.0         2.0    Died of Disease  \n",
       "\n",
       "[5 rows x 31 columns]"
      ]
     },
     "execution_count": 8,
     "metadata": {},
     "output_type": "execute_result"
    }
   ],
   "source": [
    "data_clinica.head()"
   ]
  },
  {
   "cell_type": "markdown",
   "id": "9291c881-c05b-48f3-a9be-368718c14c16",
   "metadata": {},
   "source": [
    "#### info()\n",
    "Imprime un listado de columnas, cuantos valores no nulos contiene y el tipo de objeto"
   ]
  },
  {
   "cell_type": "code",
   "execution_count": 9,
   "id": "fd9e0db5-052c-4c91-8f4b-88608df2803b",
   "metadata": {},
   "outputs": [
    {
     "name": "stdout",
     "output_type": "stream",
     "text": [
      "<class 'pandas.core.frame.DataFrame'>\n",
      "RangeIndex: 1904 entries, 0 to 1903\n",
      "Data columns (total 31 columns):\n",
      " #   Column                          Non-Null Count  Dtype  \n",
      "---  ------                          --------------  -----  \n",
      " 0   patient_id                      1904 non-null   int64  \n",
      " 1   age_at_diagnosis                1904 non-null   float64\n",
      " 2   type_of_breast_surgery          1882 non-null   object \n",
      " 3   cancer_type                     1904 non-null   object \n",
      " 4   cancer_type_detailed            1889 non-null   object \n",
      " 5   cellularity                     1850 non-null   object \n",
      " 6   chemotherapy                    1904 non-null   int64  \n",
      " 7   pam50_+_claudin-low_subtype     1904 non-null   object \n",
      " 8   cohort                          1904 non-null   float64\n",
      " 9   er_status_measured_by_ihc       1874 non-null   object \n",
      " 10  er_status                       1904 non-null   object \n",
      " 11  neoplasm_histologic_grade       1832 non-null   float64\n",
      " 12  her2_status_measured_by_snp6    1904 non-null   object \n",
      " 13  her2_status                     1904 non-null   object \n",
      " 14  tumor_other_histologic_subtype  1889 non-null   object \n",
      " 15  hormone_therapy                 1904 non-null   int64  \n",
      " 16  inferred_menopausal_state       1904 non-null   object \n",
      " 17  integrative_cluster             1904 non-null   object \n",
      " 18  primary_tumor_laterality        1798 non-null   object \n",
      " 19  lymph_nodes_examined_positive   1904 non-null   float64\n",
      " 20  mutation_count                  1859 non-null   float64\n",
      " 21  nottingham_prognostic_index     1904 non-null   float64\n",
      " 22  oncotree_code                   1889 non-null   object \n",
      " 23  overall_survival_months         1904 non-null   float64\n",
      " 24  overall_survival                1904 non-null   int64  \n",
      " 25  pr_status                       1904 non-null   object \n",
      " 26  radio_therapy                   1904 non-null   int64  \n",
      " 27  3-gene_classifier_subtype       1700 non-null   object \n",
      " 28  tumor_size                      1884 non-null   float64\n",
      " 29  tumor_stage                     1403 non-null   float64\n",
      " 30  death_from_cancer               1903 non-null   object \n",
      "dtypes: float64(9), int64(5), object(17)\n",
      "memory usage: 461.2+ KB\n"
     ]
    }
   ],
   "source": [
    "data_clinica.info()"
   ]
  },
  {
   "cell_type": "markdown",
   "id": "783d5293-3707-4c55-9fc8-8825105c9b1c",
   "metadata": {},
   "source": [
    "#### describe()\n",
    "Estadistica descriptiva de los valos numericos en el dataframe"
   ]
  },
  {
   "cell_type": "code",
   "execution_count": 10,
   "id": "21914e19-02ef-4754-b8a3-72d92e4cf59d",
   "metadata": {},
   "outputs": [
    {
     "data": {
      "text/html": [
       "<div>\n",
       "<style scoped>\n",
       "    .dataframe tbody tr th:only-of-type {\n",
       "        vertical-align: middle;\n",
       "    }\n",
       "\n",
       "    .dataframe tbody tr th {\n",
       "        vertical-align: top;\n",
       "    }\n",
       "\n",
       "    .dataframe thead th {\n",
       "        text-align: right;\n",
       "    }\n",
       "</style>\n",
       "<table border=\"1\" class=\"dataframe\">\n",
       "  <thead>\n",
       "    <tr style=\"text-align: right;\">\n",
       "      <th></th>\n",
       "      <th>patient_id</th>\n",
       "      <th>age_at_diagnosis</th>\n",
       "      <th>chemotherapy</th>\n",
       "      <th>cohort</th>\n",
       "      <th>neoplasm_histologic_grade</th>\n",
       "      <th>hormone_therapy</th>\n",
       "      <th>lymph_nodes_examined_positive</th>\n",
       "      <th>mutation_count</th>\n",
       "      <th>nottingham_prognostic_index</th>\n",
       "      <th>overall_survival_months</th>\n",
       "      <th>overall_survival</th>\n",
       "      <th>radio_therapy</th>\n",
       "      <th>tumor_size</th>\n",
       "      <th>tumor_stage</th>\n",
       "    </tr>\n",
       "  </thead>\n",
       "  <tbody>\n",
       "    <tr>\n",
       "      <th>count</th>\n",
       "      <td>1904.000000</td>\n",
       "      <td>1904.000000</td>\n",
       "      <td>1904.000000</td>\n",
       "      <td>1904.000000</td>\n",
       "      <td>1832.000000</td>\n",
       "      <td>1904.000000</td>\n",
       "      <td>1904.000000</td>\n",
       "      <td>1859.000000</td>\n",
       "      <td>1904.000000</td>\n",
       "      <td>1904.000000</td>\n",
       "      <td>1904.000000</td>\n",
       "      <td>1904.000000</td>\n",
       "      <td>1884.000000</td>\n",
       "      <td>1403.000000</td>\n",
       "    </tr>\n",
       "    <tr>\n",
       "      <th>mean</th>\n",
       "      <td>3921.982143</td>\n",
       "      <td>61.087054</td>\n",
       "      <td>0.207983</td>\n",
       "      <td>2.643908</td>\n",
       "      <td>2.415939</td>\n",
       "      <td>0.616597</td>\n",
       "      <td>2.002101</td>\n",
       "      <td>5.697687</td>\n",
       "      <td>4.033019</td>\n",
       "      <td>125.121324</td>\n",
       "      <td>0.420693</td>\n",
       "      <td>0.597164</td>\n",
       "      <td>26.238726</td>\n",
       "      <td>1.750535</td>\n",
       "    </tr>\n",
       "    <tr>\n",
       "      <th>std</th>\n",
       "      <td>2358.478332</td>\n",
       "      <td>12.978711</td>\n",
       "      <td>0.405971</td>\n",
       "      <td>1.228615</td>\n",
       "      <td>0.650612</td>\n",
       "      <td>0.486343</td>\n",
       "      <td>4.079993</td>\n",
       "      <td>4.058778</td>\n",
       "      <td>1.144492</td>\n",
       "      <td>76.334148</td>\n",
       "      <td>0.493800</td>\n",
       "      <td>0.490597</td>\n",
       "      <td>15.160976</td>\n",
       "      <td>0.628999</td>\n",
       "    </tr>\n",
       "    <tr>\n",
       "      <th>min</th>\n",
       "      <td>0.000000</td>\n",
       "      <td>21.930000</td>\n",
       "      <td>0.000000</td>\n",
       "      <td>1.000000</td>\n",
       "      <td>1.000000</td>\n",
       "      <td>0.000000</td>\n",
       "      <td>0.000000</td>\n",
       "      <td>1.000000</td>\n",
       "      <td>1.000000</td>\n",
       "      <td>0.000000</td>\n",
       "      <td>0.000000</td>\n",
       "      <td>0.000000</td>\n",
       "      <td>1.000000</td>\n",
       "      <td>0.000000</td>\n",
       "    </tr>\n",
       "    <tr>\n",
       "      <th>25%</th>\n",
       "      <td>896.500000</td>\n",
       "      <td>51.375000</td>\n",
       "      <td>0.000000</td>\n",
       "      <td>1.000000</td>\n",
       "      <td>2.000000</td>\n",
       "      <td>0.000000</td>\n",
       "      <td>0.000000</td>\n",
       "      <td>3.000000</td>\n",
       "      <td>3.046000</td>\n",
       "      <td>60.825000</td>\n",
       "      <td>0.000000</td>\n",
       "      <td>0.000000</td>\n",
       "      <td>17.000000</td>\n",
       "      <td>1.000000</td>\n",
       "    </tr>\n",
       "    <tr>\n",
       "      <th>50%</th>\n",
       "      <td>4730.500000</td>\n",
       "      <td>61.770000</td>\n",
       "      <td>0.000000</td>\n",
       "      <td>3.000000</td>\n",
       "      <td>3.000000</td>\n",
       "      <td>1.000000</td>\n",
       "      <td>0.000000</td>\n",
       "      <td>5.000000</td>\n",
       "      <td>4.042000</td>\n",
       "      <td>115.616667</td>\n",
       "      <td>0.000000</td>\n",
       "      <td>1.000000</td>\n",
       "      <td>23.000000</td>\n",
       "      <td>2.000000</td>\n",
       "    </tr>\n",
       "    <tr>\n",
       "      <th>75%</th>\n",
       "      <td>5536.250000</td>\n",
       "      <td>70.592500</td>\n",
       "      <td>0.000000</td>\n",
       "      <td>3.000000</td>\n",
       "      <td>3.000000</td>\n",
       "      <td>1.000000</td>\n",
       "      <td>2.000000</td>\n",
       "      <td>7.000000</td>\n",
       "      <td>5.040250</td>\n",
       "      <td>184.716667</td>\n",
       "      <td>1.000000</td>\n",
       "      <td>1.000000</td>\n",
       "      <td>30.000000</td>\n",
       "      <td>2.000000</td>\n",
       "    </tr>\n",
       "    <tr>\n",
       "      <th>max</th>\n",
       "      <td>7299.000000</td>\n",
       "      <td>96.290000</td>\n",
       "      <td>1.000000</td>\n",
       "      <td>5.000000</td>\n",
       "      <td>3.000000</td>\n",
       "      <td>1.000000</td>\n",
       "      <td>45.000000</td>\n",
       "      <td>80.000000</td>\n",
       "      <td>6.360000</td>\n",
       "      <td>355.200000</td>\n",
       "      <td>1.000000</td>\n",
       "      <td>1.000000</td>\n",
       "      <td>182.000000</td>\n",
       "      <td>4.000000</td>\n",
       "    </tr>\n",
       "  </tbody>\n",
       "</table>\n",
       "</div>"
      ],
      "text/plain": [
       "        patient_id  age_at_diagnosis  chemotherapy       cohort  \\\n",
       "count  1904.000000       1904.000000   1904.000000  1904.000000   \n",
       "mean   3921.982143         61.087054      0.207983     2.643908   \n",
       "std    2358.478332         12.978711      0.405971     1.228615   \n",
       "min       0.000000         21.930000      0.000000     1.000000   \n",
       "25%     896.500000         51.375000      0.000000     1.000000   \n",
       "50%    4730.500000         61.770000      0.000000     3.000000   \n",
       "75%    5536.250000         70.592500      0.000000     3.000000   \n",
       "max    7299.000000         96.290000      1.000000     5.000000   \n",
       "\n",
       "       neoplasm_histologic_grade  hormone_therapy  \\\n",
       "count                1832.000000      1904.000000   \n",
       "mean                    2.415939         0.616597   \n",
       "std                     0.650612         0.486343   \n",
       "min                     1.000000         0.000000   \n",
       "25%                     2.000000         0.000000   \n",
       "50%                     3.000000         1.000000   \n",
       "75%                     3.000000         1.000000   \n",
       "max                     3.000000         1.000000   \n",
       "\n",
       "       lymph_nodes_examined_positive  mutation_count  \\\n",
       "count                    1904.000000     1859.000000   \n",
       "mean                        2.002101        5.697687   \n",
       "std                         4.079993        4.058778   \n",
       "min                         0.000000        1.000000   \n",
       "25%                         0.000000        3.000000   \n",
       "50%                         0.000000        5.000000   \n",
       "75%                         2.000000        7.000000   \n",
       "max                        45.000000       80.000000   \n",
       "\n",
       "       nottingham_prognostic_index  overall_survival_months  overall_survival  \\\n",
       "count                  1904.000000              1904.000000       1904.000000   \n",
       "mean                      4.033019               125.121324          0.420693   \n",
       "std                       1.144492                76.334148          0.493800   \n",
       "min                       1.000000                 0.000000          0.000000   \n",
       "25%                       3.046000                60.825000          0.000000   \n",
       "50%                       4.042000               115.616667          0.000000   \n",
       "75%                       5.040250               184.716667          1.000000   \n",
       "max                       6.360000               355.200000          1.000000   \n",
       "\n",
       "       radio_therapy   tumor_size  tumor_stage  \n",
       "count    1904.000000  1884.000000  1403.000000  \n",
       "mean        0.597164    26.238726     1.750535  \n",
       "std         0.490597    15.160976     0.628999  \n",
       "min         0.000000     1.000000     0.000000  \n",
       "25%         0.000000    17.000000     1.000000  \n",
       "50%         1.000000    23.000000     2.000000  \n",
       "75%         1.000000    30.000000     2.000000  \n",
       "max         1.000000   182.000000     4.000000  "
      ]
     },
     "execution_count": 10,
     "metadata": {},
     "output_type": "execute_result"
    }
   ],
   "source": [
    "data_clinica.describe()"
   ]
  },
  {
   "cell_type": "markdown",
   "id": "78d7b223-c2e0-4164-a1e0-e49e9871b00a",
   "metadata": {},
   "source": [
    "## Columnas\n",
    "Extraemos a una lista los nombres de las columnas en el dataset de data_clinica, ya que nos va a servir mas adelante"
   ]
  },
  {
   "cell_type": "code",
   "execution_count": 11,
   "id": "34ddbb6a-24bf-4d62-b25c-0b6a636cc9a8",
   "metadata": {},
   "outputs": [
    {
     "name": "stdout",
     "output_type": "stream",
     "text": [
      "['patient_id', 'age_at_diagnosis', 'type_of_breast_surgery', 'cancer_type', 'cancer_type_detailed', 'cellularity', 'chemotherapy', 'pam50_+_claudin-low_subtype', 'cohort', 'er_status_measured_by_ihc', 'er_status', 'neoplasm_histologic_grade', 'her2_status_measured_by_snp6', 'her2_status', 'tumor_other_histologic_subtype', 'hormone_therapy', 'inferred_menopausal_state', 'integrative_cluster', 'primary_tumor_laterality', 'lymph_nodes_examined_positive', 'mutation_count', 'nottingham_prognostic_index', 'oncotree_code', 'overall_survival_months', 'overall_survival', 'pr_status', 'radio_therapy', '3-gene_classifier_subtype', 'tumor_size', 'tumor_stage', 'death_from_cancer']\n"
     ]
    }
   ],
   "source": [
    "columnas = data_clinica.columns.tolist()\n",
    "print(columnas)"
   ]
  },
  {
   "cell_type": "markdown",
   "id": "ea34d939-aca6-4e51-a458-55bb00ddbef1",
   "metadata": {},
   "source": [
    "## Variable Objetivo\n",
    "\n",
    "Esta es la variable que vamos a predecir"
   ]
  },
  {
   "cell_type": "code",
   "execution_count": 12,
   "id": "6636bde4-f873-4445-97d2-3814e7ba3391",
   "metadata": {},
   "outputs": [
    {
     "data": {
      "text/plain": [
       "array([1, 0], dtype=int64)"
      ]
     },
     "execution_count": 12,
     "metadata": {},
     "output_type": "execute_result"
    }
   ],
   "source": [
    "data_clinica['overall_survival'].unique()"
   ]
  },
  {
   "cell_type": "code",
   "execution_count": null,
   "id": "fad0b8c7-b697-428c-a676-6a02083d00a8",
   "metadata": {},
   "outputs": [],
   "source": []
  },
  {
   "cell_type": "markdown",
   "id": "b4576c1c-2ea6-40a8-be79-2334a0024cb9",
   "metadata": {},
   "source": [
    "## Variables Categoricas"
   ]
  },
  {
   "cell_type": "markdown",
   "id": "84374b32-65a0-4c94-b69c-f93adf427eba",
   "metadata": {},
   "source": [
    "Vamos a buscar en el dataset clinico las columnas categoricas, las que no contien data numerica. El objetivo es trasnformar estas variables para utilizarlas en los experimentos.\n",
    "\n",
    "Para esto vamos a buscar por el tipo de dato, las variables de tipo `object` son las variables que estamos buscando.\n",
    "Las columnas de tipo `int`o `float` son numericas.\n",
    "En pandas para obtener las columnas de determinado o determinados tipo de datos utilizamos la función [select_dtypes](https://pandas.pydata.org/docs/reference/api/pandas.DataFrame.select_dtypes.html)"
   ]
  },
  {
   "cell_type": "code",
   "execution_count": 13,
   "id": "5be81a81-a77c-436e-81c6-ddcd49545be1",
   "metadata": {},
   "outputs": [],
   "source": [
    "columnas_categoricas = data_clinica.select_dtypes(\"object\").columns"
   ]
  },
  {
   "cell_type": "code",
   "execution_count": 14,
   "id": "029f4fd0-bcff-422c-89af-b1b00fc4d157",
   "metadata": {},
   "outputs": [
    {
     "name": "stdout",
     "output_type": "stream",
     "text": [
      "Index(['type_of_breast_surgery', 'cancer_type', 'cancer_type_detailed',\n",
      "       'cellularity', 'pam50_+_claudin-low_subtype',\n",
      "       'er_status_measured_by_ihc', 'er_status',\n",
      "       'her2_status_measured_by_snp6', 'her2_status',\n",
      "       'tumor_other_histologic_subtype', 'inferred_menopausal_state',\n",
      "       'integrative_cluster', 'primary_tumor_laterality', 'oncotree_code',\n",
      "       'pr_status', '3-gene_classifier_subtype', 'death_from_cancer'],\n",
      "      dtype='object')\n"
     ]
    }
   ],
   "source": [
    "print(columnas_categoricas)"
   ]
  },
  {
   "cell_type": "markdown",
   "id": "d6497ed8-ebe6-4f5a-8493-a6ecd6c67e47",
   "metadata": {},
   "source": [
    "Exploremos los valores de las variables categoricas, para ver los valores unicos podemos utilizar la funcion de pandas `unique`.\n",
    "\n",
    "Ejemplo: "
   ]
  },
  {
   "cell_type": "code",
   "execution_count": 15,
   "id": "33a62581-fbf5-4881-a4c0-abb0040dd1a4",
   "metadata": {},
   "outputs": [
    {
     "data": {
      "text/plain": [
       "array(['MASTECTOMY', 'BREAST CONSERVING', nan], dtype=object)"
      ]
     },
     "execution_count": 15,
     "metadata": {},
     "output_type": "execute_result"
    }
   ],
   "source": [
    "data_clinica['type_of_breast_surgery'].unique()"
   ]
  },
  {
   "cell_type": "markdown",
   "id": "72a0986c-ab93-40e4-9bde-0374676796e9",
   "metadata": {},
   "source": [
    ">  **Pregunta Examen**: Utilizando un ciclo for exploremos los valores unicos de todas las variables categoricas, recordemos que las almacenamos en la lista `columnas_categoricas`.\n",
    "\n",
    "TIP: el codifo en los f-strings va adentro de `{ }`"
   ]
  },
  {
   "cell_type": "code",
   "execution_count": 16,
   "id": "42070b12-e1fe-463a-a209-bb178cbc3531",
   "metadata": {},
   "outputs": [
    {
     "name": "stdout",
     "output_type": "stream",
     "text": [
      "==== Columna: type_of_breast_surgery =====\n",
      "> Valores Unicos: ['MASTECTOMY' 'BREAST CONSERVING' nan] \n",
      "\n",
      "==== Columna: cancer_type =====\n",
      "> Valores Unicos: ['Breast Cancer' 'Breast Sarcoma'] \n",
      "\n",
      "==== Columna: cancer_type_detailed =====\n",
      "> Valores Unicos: ['Breast Invasive Ductal Carcinoma'\n",
      " 'Breast Mixed Ductal and Lobular Carcinoma'\n",
      " 'Breast Invasive Lobular Carcinoma'\n",
      " 'Breast Invasive Mixed Mucinous Carcinoma' 'Breast' nan\n",
      " 'Metaplastic Breast Cancer'] \n",
      "\n",
      "==== Columna: cellularity =====\n",
      "> Valores Unicos: [nan 'High' 'Moderate' 'Low'] \n",
      "\n",
      "==== Columna: pam50_+_claudin-low_subtype =====\n",
      "> Valores Unicos: ['claudin-low' 'LumA' 'LumB' 'Her2' 'Normal' 'Basal' 'NC'] \n",
      "\n",
      "==== Columna: er_status_measured_by_ihc =====\n",
      "> Valores Unicos: ['Positve' 'Negative' nan] \n",
      "\n",
      "==== Columna: er_status =====\n",
      "> Valores Unicos: ['Positive' 'Negative'] \n",
      "\n",
      "==== Columna: her2_status_measured_by_snp6 =====\n",
      "> Valores Unicos: ['NEUTRAL' 'LOSS' 'GAIN' 'UNDEF'] \n",
      "\n",
      "==== Columna: her2_status =====\n",
      "> Valores Unicos: ['Negative' 'Positive'] \n",
      "\n",
      "==== Columna: tumor_other_histologic_subtype =====\n",
      "> Valores Unicos: ['Ductal/NST' 'Mixed' 'Lobular' 'Tubular/ cribriform' 'Mucinous'\n",
      " 'Medullary' 'Other' nan 'Metaplastic'] \n",
      "\n",
      "==== Columna: inferred_menopausal_state =====\n",
      "> Valores Unicos: ['Post' 'Pre'] \n",
      "\n",
      "==== Columna: integrative_cluster =====\n",
      "> Valores Unicos: ['4ER+' '3' '9' '7' '4ER-' '5' '8' '10' '1' '2' '6'] \n",
      "\n",
      "==== Columna: primary_tumor_laterality =====\n",
      "> Valores Unicos: ['Right' 'Left' nan] \n",
      "\n",
      "==== Columna: oncotree_code =====\n",
      "> Valores Unicos: ['IDC' 'MDLC' 'ILC' 'IMMC' 'BREAST' nan 'MBC'] \n",
      "\n",
      "==== Columna: pr_status =====\n",
      "> Valores Unicos: ['Negative' 'Positive'] \n",
      "\n",
      "==== Columna: 3-gene_classifier_subtype =====\n",
      "> Valores Unicos: ['ER-/HER2-' 'ER+/HER2- High Prolif' nan 'ER+/HER2- Low Prolif' 'HER2+'] \n",
      "\n",
      "==== Columna: death_from_cancer =====\n",
      "> Valores Unicos: ['Living' 'Died of Disease' 'Died of Other Causes' nan] \n",
      "\n"
     ]
    }
   ],
   "source": [
    "for col in columnas_categoricas:\n",
    "    print(f\"==== Columna: {col} =====\") ## tu codigo aqui {}\n",
    "    print(f\"> Valores Unicos: {data_clinica[col].unique()} \\n\") ## tu codigo aqui {}"
   ]
  },
  {
   "cell_type": "markdown",
   "id": "3afaf032-a474-418a-9331-8e4c5a6711bb",
   "metadata": {},
   "source": [
    "## Correlación Variables Categoricas\n",
    "Necesitamos medir la dependencia entre las variables categoricas, para seleccionar las que tengar mayor importancia con nuestra variable objetivo. \n",
    "\n",
    "Para esto vamos a correr el test de Chi Cuadrado $\\chi^{2}$, la prueba de independencia de chi-cuadrado prueba la asociación entre dos variables categóricas. En Python para correr el test de Chi Cuadrado, vamos a utilizar la libreria **scipy**(Scientific Python).\n",
    "El test de Chi Cuadrado necesita que le enviemos una tabla de contingencia de las variables categoricas, a tabla de contingencia contiene los efectivos conjuntos de los pares de modalidades o de los pares de clases.\n",
    "Ejemplo de una tabla de contingencia:\n",
    "\n",
    "| overall_survival\t<br>  type_of_breast_surgery   | 0 | 1 |\n",
    "|------------------------|---|---| \n",
    "| BREAST CONSERVING\t     |351|404|\n",
    "| MASTECTOMY\t         |738|389|"
   ]
  },
  {
   "cell_type": "markdown",
   "id": "271402e0-e7d9-480b-87f0-21a2a43bebcc",
   "metadata": {},
   "source": [
    "Para crear esta table de contigencia podemos utilizar la función de pandas [crosstab](https://pandas.pydata.org/docs/reference/api/pandas.crosstab.html).\n",
    "\n",
    "Ejemplo:"
   ]
  },
  {
   "cell_type": "code",
   "execution_count": 17,
   "id": "310a2f34-063f-4a0c-8267-cd19cf9a5078",
   "metadata": {},
   "outputs": [
    {
     "data": {
      "text/html": [
       "<div>\n",
       "<style scoped>\n",
       "    .dataframe tbody tr th:only-of-type {\n",
       "        vertical-align: middle;\n",
       "    }\n",
       "\n",
       "    .dataframe tbody tr th {\n",
       "        vertical-align: top;\n",
       "    }\n",
       "\n",
       "    .dataframe thead th {\n",
       "        text-align: right;\n",
       "    }\n",
       "</style>\n",
       "<table border=\"1\" class=\"dataframe\">\n",
       "  <thead>\n",
       "    <tr style=\"text-align: right;\">\n",
       "      <th>overall_survival</th>\n",
       "      <th>0</th>\n",
       "      <th>1</th>\n",
       "    </tr>\n",
       "    <tr>\n",
       "      <th>type_of_breast_surgery</th>\n",
       "      <th></th>\n",
       "      <th></th>\n",
       "    </tr>\n",
       "  </thead>\n",
       "  <tbody>\n",
       "    <tr>\n",
       "      <th>BREAST CONSERVING</th>\n",
       "      <td>351</td>\n",
       "      <td>404</td>\n",
       "    </tr>\n",
       "    <tr>\n",
       "      <th>MASTECTOMY</th>\n",
       "      <td>738</td>\n",
       "      <td>389</td>\n",
       "    </tr>\n",
       "  </tbody>\n",
       "</table>\n",
       "</div>"
      ],
      "text/plain": [
       "overall_survival          0    1\n",
       "type_of_breast_surgery          \n",
       "BREAST CONSERVING       351  404\n",
       "MASTECTOMY              738  389"
      ]
     },
     "execution_count": 17,
     "metadata": {},
     "output_type": "execute_result"
    }
   ],
   "source": [
    "pd.crosstab(index = data_clinica['type_of_breast_surgery'], columns = data_clinica['overall_survival'])"
   ]
  },
  {
   "cell_type": "markdown",
   "id": "4c82a080-12d5-4800-97e2-b531e11d64e9",
   "metadata": {},
   "source": [
    ">  **Pregunta Examen**: Leer la documentacion y explicar porque utilizamos en el parametro **index** la variable categorica y en el parametro **columns** la variable objetivo\n",
    "\n",
    "\n",
    "**Respuesta**:"
   ]
  },
  {
   "cell_type": "markdown",
   "id": "3d75c9cf-b619-4bff-89bb-72dd3991086b",
   "metadata": {},
   "source": [
    "Calculemos Chi-cuadrado $\\chi^{2}$  de contingencia o independencia para cada variable categorica\n",
    "\n",
    "Las hipótesis contrastadas en la prueba son:\n",
    "- Hipótesis nula: X e Y son independientes.\n",
    "- Hipótesis alternativa: X e Y no son independientes\n",
    "\n",
    "\n",
    "> **Existe una relación entre dos variables si el valor el p-value ≤ **0.05**.** \n",
    "\n",
    "Al inicio del notebook importamos el modulo de estadistica de Scipy con el alias de **ss**\n",
    "```Python\n",
    "import scipy.stats as ss\n",
    "```\n",
    "Vamos a utilizar la funcion **chi2_contingency** de este modulo para hacer el calculo."
   ]
  },
  {
   "cell_type": "code",
   "execution_count": 18,
   "id": "d10b9c22-81fc-420a-bb70-87f857b042e3",
   "metadata": {},
   "outputs": [
    {
     "name": "stdout",
     "output_type": "stream",
     "text": [
      "Chi2ContingencyResult(statistic=66.11927513072783, pvalue=4.2444467466555877e-16, dof=1, expected_freq=array([[436.87300744, 318.12699256],\n",
      "       [652.12699256, 474.87300744]]))\n",
      "p-value: 4.2444467466555877e-16\n"
     ]
    }
   ],
   "source": [
    "tbl_contingencia = pd.crosstab(index = data_clinica['type_of_breast_surgery'], columns = data_clinica['overall_survival'])\n",
    "\n",
    "resultado = ss.chi2_contingency(tbl_contingencia)\n",
    "print(resultado)\n",
    "\n",
    "## Accedemos al p-value\n",
    "print(f\"p-value: {resultado[1]}\")"
   ]
  },
  {
   "cell_type": "markdown",
   "id": "156c0c4d-cf66-41c2-99c2-460179b1d82b",
   "metadata": {},
   "source": [
    "Logramos obtener el p-value de la prueba $\\chi^{2}$ de independencia, realicemos este calculo para todas las variables categoricas.\n",
    "Vamos calcular los p-values en un ciclo **for** y en cada iteración vamos a guardar el resultado en una lista llamada **resultados**.\n",
    "\n",
    ">  **Pregunta Examen**: Completa el codigo a continuación, unicamente donde veas `>>Tu codigo aqui`, los comentarios indican que hace el codigo:"
   ]
  },
  {
   "cell_type": "code",
   "execution_count": 19,
   "id": "b5e31bba-218d-48d2-bb08-a309a3ed0030",
   "metadata": {},
   "outputs": [],
   "source": [
    "resultados = [] ## Creamos una lista vacia\n",
    "\n",
    "for variable in columnas_categoricas:\n",
    "    ## Calculamos la tabla de contingencia:\n",
    "    tbl_contingencia = pd.crosstab(index = data_clinica[variable], columns = data_clinica['overall_survival'])\n",
    "    ## Test de chi cuadrado:\n",
    "    resultado_test = ss.chi2_contingency(tbl_contingencia)\n",
    "    \n",
    "    ## Extrae el p-value, se encuentra en el indice 1 del resultado >>Tu codigo aqui:\n",
    "    pvalue = resultado_test[1]\n",
    "    \n",
    "    ##Agregamos a la lista\n",
    "    resultados.append((variable, pvalue))\n",
    "    "
   ]
  },
  {
   "cell_type": "markdown",
   "id": "7aed396e-4f21-4ca9-ade1-e56662879dc7",
   "metadata": {},
   "source": [
    ">  **Pregunta Examen**: El objeto que agremos a la lista de resutados es una Tupla, ¿Que son las tuplas en Python? ¿Son objetos inmutables?\n",
    "¿Que significa que sean inmutables?\n",
    "\n",
    "**Respuesta**: \n",
    "1. Una tupla es un tipo de dato que permite almacenar una colección de elementos que son inmutables y son ordenados por un indice. \n",
    "2. Si.\n",
    "3. significa que no pueden ser modificados despues de ser creados. Esto los hace utiles para realizar analisis y que estos no sean modificados por error. "
   ]
  },
  {
   "cell_type": "code",
   "execution_count": 20,
   "id": "9df66a25-e929-45d7-b03f-1693200a2e08",
   "metadata": {},
   "outputs": [
    {
     "name": "stdout",
     "output_type": "stream",
     "text": [
      "[('type_of_breast_surgery', 4.2444467466555877e-16), ('cancer_type', 0.8723381021113059), ('cancer_type_detailed', 0.04860927228804105), ('cellularity', 0.3790023839997118), ('pam50_+_claudin-low_subtype', 1.2757357429268846e-08), ('er_status_measured_by_ihc', 0.3849523098061889), ('er_status', 0.42380135873577507), ('her2_status_measured_by_snp6', 0.22355588494404108), ('her2_status', 0.1681127339537874), ('tumor_other_histologic_subtype', 0.0094460568290952), ('inferred_menopausal_state', 1.3470659152891998e-13), ('integrative_cluster', 5.056393212521306e-06), ('primary_tumor_laterality', 0.057851298371032756), ('oncotree_code', 0.04860927228804105), ('pr_status', 0.3513231583914841), ('3-gene_classifier_subtype', 1.4937322991327923e-06), ('death_from_cancer', 0.0)]\n"
     ]
    }
   ],
   "source": [
    "print(resultados)"
   ]
  },
  {
   "cell_type": "code",
   "execution_count": 21,
   "id": "8b0e6c69-cd07-4908-9b64-95dc4b645028",
   "metadata": {},
   "outputs": [
    {
     "data": {
      "text/html": [
       "<div>\n",
       "<style scoped>\n",
       "    .dataframe tbody tr th:only-of-type {\n",
       "        vertical-align: middle;\n",
       "    }\n",
       "\n",
       "    .dataframe tbody tr th {\n",
       "        vertical-align: top;\n",
       "    }\n",
       "\n",
       "    .dataframe thead th {\n",
       "        text-align: right;\n",
       "    }\n",
       "</style>\n",
       "<table border=\"1\" class=\"dataframe\">\n",
       "  <thead>\n",
       "    <tr style=\"text-align: right;\">\n",
       "      <th></th>\n",
       "      <th>variable</th>\n",
       "      <th>p-value</th>\n",
       "    </tr>\n",
       "  </thead>\n",
       "  <tbody>\n",
       "    <tr>\n",
       "      <th>0</th>\n",
       "      <td>type_of_breast_surgery</td>\n",
       "      <td>4.244447e-16</td>\n",
       "    </tr>\n",
       "    <tr>\n",
       "      <th>1</th>\n",
       "      <td>cancer_type</td>\n",
       "      <td>8.723381e-01</td>\n",
       "    </tr>\n",
       "    <tr>\n",
       "      <th>2</th>\n",
       "      <td>cancer_type_detailed</td>\n",
       "      <td>4.860927e-02</td>\n",
       "    </tr>\n",
       "    <tr>\n",
       "      <th>3</th>\n",
       "      <td>cellularity</td>\n",
       "      <td>3.790024e-01</td>\n",
       "    </tr>\n",
       "    <tr>\n",
       "      <th>4</th>\n",
       "      <td>pam50_+_claudin-low_subtype</td>\n",
       "      <td>1.275736e-08</td>\n",
       "    </tr>\n",
       "    <tr>\n",
       "      <th>5</th>\n",
       "      <td>er_status_measured_by_ihc</td>\n",
       "      <td>3.849523e-01</td>\n",
       "    </tr>\n",
       "    <tr>\n",
       "      <th>6</th>\n",
       "      <td>er_status</td>\n",
       "      <td>4.238014e-01</td>\n",
       "    </tr>\n",
       "    <tr>\n",
       "      <th>7</th>\n",
       "      <td>her2_status_measured_by_snp6</td>\n",
       "      <td>2.235559e-01</td>\n",
       "    </tr>\n",
       "    <tr>\n",
       "      <th>8</th>\n",
       "      <td>her2_status</td>\n",
       "      <td>1.681127e-01</td>\n",
       "    </tr>\n",
       "    <tr>\n",
       "      <th>9</th>\n",
       "      <td>tumor_other_histologic_subtype</td>\n",
       "      <td>9.446057e-03</td>\n",
       "    </tr>\n",
       "    <tr>\n",
       "      <th>10</th>\n",
       "      <td>inferred_menopausal_state</td>\n",
       "      <td>1.347066e-13</td>\n",
       "    </tr>\n",
       "    <tr>\n",
       "      <th>11</th>\n",
       "      <td>integrative_cluster</td>\n",
       "      <td>5.056393e-06</td>\n",
       "    </tr>\n",
       "    <tr>\n",
       "      <th>12</th>\n",
       "      <td>primary_tumor_laterality</td>\n",
       "      <td>5.785130e-02</td>\n",
       "    </tr>\n",
       "    <tr>\n",
       "      <th>13</th>\n",
       "      <td>oncotree_code</td>\n",
       "      <td>4.860927e-02</td>\n",
       "    </tr>\n",
       "    <tr>\n",
       "      <th>14</th>\n",
       "      <td>pr_status</td>\n",
       "      <td>3.513232e-01</td>\n",
       "    </tr>\n",
       "    <tr>\n",
       "      <th>15</th>\n",
       "      <td>3-gene_classifier_subtype</td>\n",
       "      <td>1.493732e-06</td>\n",
       "    </tr>\n",
       "    <tr>\n",
       "      <th>16</th>\n",
       "      <td>death_from_cancer</td>\n",
       "      <td>0.000000e+00</td>\n",
       "    </tr>\n",
       "  </tbody>\n",
       "</table>\n",
       "</div>"
      ],
      "text/plain": [
       "                          variable       p-value\n",
       "0           type_of_breast_surgery  4.244447e-16\n",
       "1                      cancer_type  8.723381e-01\n",
       "2             cancer_type_detailed  4.860927e-02\n",
       "3                      cellularity  3.790024e-01\n",
       "4      pam50_+_claudin-low_subtype  1.275736e-08\n",
       "5        er_status_measured_by_ihc  3.849523e-01\n",
       "6                        er_status  4.238014e-01\n",
       "7     her2_status_measured_by_snp6  2.235559e-01\n",
       "8                      her2_status  1.681127e-01\n",
       "9   tumor_other_histologic_subtype  9.446057e-03\n",
       "10       inferred_menopausal_state  1.347066e-13\n",
       "11             integrative_cluster  5.056393e-06\n",
       "12        primary_tumor_laterality  5.785130e-02\n",
       "13                   oncotree_code  4.860927e-02\n",
       "14                       pr_status  3.513232e-01\n",
       "15       3-gene_classifier_subtype  1.493732e-06\n",
       "16               death_from_cancer  0.000000e+00"
      ]
     },
     "execution_count": 21,
     "metadata": {},
     "output_type": "execute_result"
    }
   ],
   "source": [
    "## Convertimos la lista de resultados a un dataframe de Pandas\n",
    "chi_test_output = pd.DataFrame(resultados, columns = ['variable', 'p-value'])\n",
    "chi_test_output"
   ]
  },
  {
   "cell_type": "markdown",
   "id": "0d5be999-995f-4055-a7df-69021b4a5cec",
   "metadata": {},
   "source": [
    "Ahora hay que validar si aceptamos o rechazamos la hipotsis\n",
    "**Existe una relación entre dos variables si el valor el p-value ≤ **0.05**.** \n",
    "\n",
    "Podemos utilizar condicionales en Pandas, ejemplos"
   ]
  },
  {
   "cell_type": "code",
   "execution_count": 22,
   "id": "6040b282-ebf9-4f9b-8469-b46a5b69917f",
   "metadata": {},
   "outputs": [
    {
     "data": {
      "text/plain": [
       "0     False\n",
       "1      True\n",
       "2     False\n",
       "3      True\n",
       "4     False\n",
       "5      True\n",
       "6      True\n",
       "7      True\n",
       "8      True\n",
       "9     False\n",
       "10    False\n",
       "11    False\n",
       "12     True\n",
       "13    False\n",
       "14     True\n",
       "15    False\n",
       "16    False\n",
       "Name: p-value, dtype: bool"
      ]
     },
     "execution_count": 22,
     "metadata": {},
     "output_type": "execute_result"
    }
   ],
   "source": [
    "chi_test_output['p-value'] >= 0.05"
   ]
  },
  {
   "cell_type": "markdown",
   "id": "6f795fe5-1798-468a-8b87-bacda5b42372",
   "metadata": {},
   "source": [
    "Que paso en el codigo anterior???? \n",
    "\n",
    "Se realizo la operación condicional en cada fila esto nos retorna un objeto Series de pandas con valores de verdadero donde se cumple la condición. Si pasamos esta Serie al operador `[]` del dataframe, creamos un filtro en el dataframe:\n"
   ]
  },
  {
   "cell_type": "code",
   "execution_count": 23,
   "id": "20d810db-f2f3-4bf6-a8d0-a7d344c8a31b",
   "metadata": {},
   "outputs": [
    {
     "data": {
      "text/html": [
       "<div>\n",
       "<style scoped>\n",
       "    .dataframe tbody tr th:only-of-type {\n",
       "        vertical-align: middle;\n",
       "    }\n",
       "\n",
       "    .dataframe tbody tr th {\n",
       "        vertical-align: top;\n",
       "    }\n",
       "\n",
       "    .dataframe thead th {\n",
       "        text-align: right;\n",
       "    }\n",
       "</style>\n",
       "<table border=\"1\" class=\"dataframe\">\n",
       "  <thead>\n",
       "    <tr style=\"text-align: right;\">\n",
       "      <th></th>\n",
       "      <th>variable</th>\n",
       "      <th>p-value</th>\n",
       "    </tr>\n",
       "  </thead>\n",
       "  <tbody>\n",
       "    <tr>\n",
       "      <th>1</th>\n",
       "      <td>cancer_type</td>\n",
       "      <td>0.872338</td>\n",
       "    </tr>\n",
       "    <tr>\n",
       "      <th>3</th>\n",
       "      <td>cellularity</td>\n",
       "      <td>0.379002</td>\n",
       "    </tr>\n",
       "    <tr>\n",
       "      <th>5</th>\n",
       "      <td>er_status_measured_by_ihc</td>\n",
       "      <td>0.384952</td>\n",
       "    </tr>\n",
       "    <tr>\n",
       "      <th>6</th>\n",
       "      <td>er_status</td>\n",
       "      <td>0.423801</td>\n",
       "    </tr>\n",
       "    <tr>\n",
       "      <th>7</th>\n",
       "      <td>her2_status_measured_by_snp6</td>\n",
       "      <td>0.223556</td>\n",
       "    </tr>\n",
       "    <tr>\n",
       "      <th>8</th>\n",
       "      <td>her2_status</td>\n",
       "      <td>0.168113</td>\n",
       "    </tr>\n",
       "    <tr>\n",
       "      <th>12</th>\n",
       "      <td>primary_tumor_laterality</td>\n",
       "      <td>0.057851</td>\n",
       "    </tr>\n",
       "    <tr>\n",
       "      <th>14</th>\n",
       "      <td>pr_status</td>\n",
       "      <td>0.351323</td>\n",
       "    </tr>\n",
       "  </tbody>\n",
       "</table>\n",
       "</div>"
      ],
      "text/plain": [
       "                        variable   p-value\n",
       "1                    cancer_type  0.872338\n",
       "3                    cellularity  0.379002\n",
       "5      er_status_measured_by_ihc  0.384952\n",
       "6                      er_status  0.423801\n",
       "7   her2_status_measured_by_snp6  0.223556\n",
       "8                    her2_status  0.168113\n",
       "12      primary_tumor_laterality  0.057851\n",
       "14                     pr_status  0.351323"
      ]
     },
     "execution_count": 23,
     "metadata": {},
     "output_type": "execute_result"
    }
   ],
   "source": [
    "filtro = chi_test_output['p-value'] >= 0.05\n",
    "chi_test_output[filtro]"
   ]
  },
  {
   "cell_type": "markdown",
   "id": "e9abda44-15e5-48f7-9bc5-37ca87bb3a08",
   "metadata": {},
   "source": [
    "Podemos ver que ahora solo tenemos solo 8 variables que cumplen la condición, la operacion condicional tambien se puede aplicar directo en el dataframe:"
   ]
  },
  {
   "cell_type": "code",
   "execution_count": 24,
   "id": "bde62bfe-1995-4ba1-8825-8c21b33d8003",
   "metadata": {},
   "outputs": [
    {
     "data": {
      "text/html": [
       "<div>\n",
       "<style scoped>\n",
       "    .dataframe tbody tr th:only-of-type {\n",
       "        vertical-align: middle;\n",
       "    }\n",
       "\n",
       "    .dataframe tbody tr th {\n",
       "        vertical-align: top;\n",
       "    }\n",
       "\n",
       "    .dataframe thead th {\n",
       "        text-align: right;\n",
       "    }\n",
       "</style>\n",
       "<table border=\"1\" class=\"dataframe\">\n",
       "  <thead>\n",
       "    <tr style=\"text-align: right;\">\n",
       "      <th></th>\n",
       "      <th>variable</th>\n",
       "      <th>p-value</th>\n",
       "    </tr>\n",
       "  </thead>\n",
       "  <tbody>\n",
       "    <tr>\n",
       "      <th>1</th>\n",
       "      <td>cancer_type</td>\n",
       "      <td>0.872338</td>\n",
       "    </tr>\n",
       "    <tr>\n",
       "      <th>3</th>\n",
       "      <td>cellularity</td>\n",
       "      <td>0.379002</td>\n",
       "    </tr>\n",
       "    <tr>\n",
       "      <th>5</th>\n",
       "      <td>er_status_measured_by_ihc</td>\n",
       "      <td>0.384952</td>\n",
       "    </tr>\n",
       "    <tr>\n",
       "      <th>6</th>\n",
       "      <td>er_status</td>\n",
       "      <td>0.423801</td>\n",
       "    </tr>\n",
       "    <tr>\n",
       "      <th>7</th>\n",
       "      <td>her2_status_measured_by_snp6</td>\n",
       "      <td>0.223556</td>\n",
       "    </tr>\n",
       "    <tr>\n",
       "      <th>8</th>\n",
       "      <td>her2_status</td>\n",
       "      <td>0.168113</td>\n",
       "    </tr>\n",
       "    <tr>\n",
       "      <th>12</th>\n",
       "      <td>primary_tumor_laterality</td>\n",
       "      <td>0.057851</td>\n",
       "    </tr>\n",
       "    <tr>\n",
       "      <th>14</th>\n",
       "      <td>pr_status</td>\n",
       "      <td>0.351323</td>\n",
       "    </tr>\n",
       "  </tbody>\n",
       "</table>\n",
       "</div>"
      ],
      "text/plain": [
       "                        variable   p-value\n",
       "1                    cancer_type  0.872338\n",
       "3                    cellularity  0.379002\n",
       "5      er_status_measured_by_ihc  0.384952\n",
       "6                      er_status  0.423801\n",
       "7   her2_status_measured_by_snp6  0.223556\n",
       "8                    her2_status  0.168113\n",
       "12      primary_tumor_laterality  0.057851\n",
       "14                     pr_status  0.351323"
      ]
     },
     "execution_count": 24,
     "metadata": {},
     "output_type": "execute_result"
    }
   ],
   "source": [
    "chi_test_output[chi_test_output['p-value'] >= 0.05]"
   ]
  },
  {
   "cell_type": "markdown",
   "id": "fb453374-94de-4946-b333-4b6a014da94f",
   "metadata": {},
   "source": [
    "Ordenemos las variables utilizando la función [sort_values](https://pandas.pydata.org/docs/reference/api/pandas.DataFrame.sort_values.html?highlight=sort_values#pandas.DataFrame.sort_values).\n",
    "\n",
    "Ya identificamos las variables categoricas mas utiles para el modelo."
   ]
  },
  {
   "cell_type": "code",
   "execution_count": 25,
   "id": "302389e7-3b05-46db-87fc-3a76d2e6f33f",
   "metadata": {},
   "outputs": [
    {
     "data": {
      "text/html": [
       "<div>\n",
       "<style scoped>\n",
       "    .dataframe tbody tr th:only-of-type {\n",
       "        vertical-align: middle;\n",
       "    }\n",
       "\n",
       "    .dataframe tbody tr th {\n",
       "        vertical-align: top;\n",
       "    }\n",
       "\n",
       "    .dataframe thead th {\n",
       "        text-align: right;\n",
       "    }\n",
       "</style>\n",
       "<table border=\"1\" class=\"dataframe\">\n",
       "  <thead>\n",
       "    <tr style=\"text-align: right;\">\n",
       "      <th></th>\n",
       "      <th>variable</th>\n",
       "      <th>p-value</th>\n",
       "    </tr>\n",
       "  </thead>\n",
       "  <tbody>\n",
       "    <tr>\n",
       "      <th>1</th>\n",
       "      <td>cancer_type</td>\n",
       "      <td>0.872338</td>\n",
       "    </tr>\n",
       "    <tr>\n",
       "      <th>6</th>\n",
       "      <td>er_status</td>\n",
       "      <td>0.423801</td>\n",
       "    </tr>\n",
       "    <tr>\n",
       "      <th>5</th>\n",
       "      <td>er_status_measured_by_ihc</td>\n",
       "      <td>0.384952</td>\n",
       "    </tr>\n",
       "    <tr>\n",
       "      <th>3</th>\n",
       "      <td>cellularity</td>\n",
       "      <td>0.379002</td>\n",
       "    </tr>\n",
       "    <tr>\n",
       "      <th>14</th>\n",
       "      <td>pr_status</td>\n",
       "      <td>0.351323</td>\n",
       "    </tr>\n",
       "    <tr>\n",
       "      <th>7</th>\n",
       "      <td>her2_status_measured_by_snp6</td>\n",
       "      <td>0.223556</td>\n",
       "    </tr>\n",
       "    <tr>\n",
       "      <th>8</th>\n",
       "      <td>her2_status</td>\n",
       "      <td>0.168113</td>\n",
       "    </tr>\n",
       "    <tr>\n",
       "      <th>12</th>\n",
       "      <td>primary_tumor_laterality</td>\n",
       "      <td>0.057851</td>\n",
       "    </tr>\n",
       "  </tbody>\n",
       "</table>\n",
       "</div>"
      ],
      "text/plain": [
       "                        variable   p-value\n",
       "1                    cancer_type  0.872338\n",
       "6                      er_status  0.423801\n",
       "5      er_status_measured_by_ihc  0.384952\n",
       "3                    cellularity  0.379002\n",
       "14                     pr_status  0.351323\n",
       "7   her2_status_measured_by_snp6  0.223556\n",
       "8                    her2_status  0.168113\n",
       "12      primary_tumor_laterality  0.057851"
      ]
     },
     "execution_count": 25,
     "metadata": {},
     "output_type": "execute_result"
    }
   ],
   "source": [
    "chi_test_output[chi_test_output['p-value'] >= 0.05].sort_values('p-value', ascending=False)"
   ]
  },
  {
   "cell_type": "markdown",
   "id": "3c719f1e-9f49-48c0-8bb2-128535541286",
   "metadata": {},
   "source": [
    ">  **Pregunta Examen**: Para que se utiliza el parametro `ascending`\n",
    "\n",
    "**Respuesta**: Se utiliza para ordenar el DataFrame, en este caso indica que se ordena todo el dataframe ordenando los elementos de la columna p-value. El parametro ascending ordena los elementos de forma ascendente (de menor a mayor), al indicarle que sea False los ordena de mayor a menor."
   ]
  },
  {
   "cell_type": "markdown",
   "id": "cb9a4d24-4cb6-4437-989e-6a51d7f81ec5",
   "metadata": {},
   "source": [
    "## Variables Numericas"
   ]
  },
  {
   "cell_type": "markdown",
   "id": "9ee1cda9-7953-4a1c-ba3c-f84aa14ce6b8",
   "metadata": {},
   "source": [
    "Antes de trabajar con las variables numerica vamos a eliminar columnas que no sirven para el modelo:\n",
    "- identificador del paciente: `patient_id`\n",
    "- `overall_survival_months` para este modelo nos causa ruido saber cuando tiempo vivio despues del tratamiento ya que el objetivo es predecir si sobrevive o no, existen otros modelos para calcular el tiempo."
   ]
  },
  {
   "cell_type": "code",
   "execution_count": 26,
   "id": "13fda4ea-bbdd-4b98-b0d2-59a9b5208f72",
   "metadata": {},
   "outputs": [],
   "source": [
    "data_clinica.drop(columns=['patient_id', 'overall_survival_months'], inplace=True)"
   ]
  },
  {
   "cell_type": "markdown",
   "id": "449b4d3d-acd0-497a-9a71-e4dfff8ba70f",
   "metadata": {},
   "source": [
    ">  **Pregunta Examen**: Para que se utiliza el parametro `inplace`\n",
    "\n",
    "**Respuesta**: Modifica el DataFrame original y no crea uno nuevo. En este caso modifica el DataFrame data_clinica indicandole que se eliminan las columnas 'patient_id' y 'overall_survival_months'. "
   ]
  },
  {
   "cell_type": "markdown",
   "id": "f4ba4b60-9571-4cc2-91d9-5b77f1b29188",
   "metadata": {},
   "source": [
    "Eliminamos columnas, recordemos actualizar nuestra lista de columnas"
   ]
  },
  {
   "cell_type": "code",
   "execution_count": 27,
   "id": "2dc9cc05-26e0-4e10-9078-75d8cef061ef",
   "metadata": {},
   "outputs": [],
   "source": [
    "columnas = data_clinica.columns.tolist()"
   ]
  },
  {
   "cell_type": "markdown",
   "id": "02374dae-c74c-4e27-b8c7-e25f6aeac5ac",
   "metadata": {},
   "source": [
    ">  **Pregunta Examen**: \n",
    "\n",
    "- ¿Que tipo de objeto es `data_clinica` y que contiene?\n",
    "- ¿Que tipo de objeto es `columnas_categoricas` y que contiene?\n",
    "    \n",
    "**Respuesta**: \n",
    "1. data_clinica es un DataFrame que contiene unicamente los datos clinicos del dataset inicial. Aqui no se encuentran los datos genomicos. \n",
    "2. columnas_categoricas es un index que contiene los nombres de las columnas que tienen valores de tipo string en el dataset data_clinica.    "
   ]
  },
  {
   "cell_type": "markdown",
   "id": "3416c38f-3a48-46ab-835b-b77f5dbe181b",
   "metadata": {},
   "source": [
    "Ya eliminamos variables numericas que no sirven para el modelo.\n",
    "\n",
    "\n",
    "Queremos utilizar solo las variables numericas, de momento tenemos una lista todas las variables y una lista de variables categoricas,vamos a utilizar la lista de varaibles categoricas para optener los nombres de las numericas. \n",
    "\n",
    "Con Python podemos validar si un elemento existe en una lista utilizando el comando `in`, esto va a retornar un valor booleano\n",
    "Ejemplo:"
   ]
  },
  {
   "cell_type": "code",
   "execution_count": 32,
   "id": "ff638d86-6a69-477e-a6be-fb3f4875bd07",
   "metadata": {},
   "outputs": [
    {
     "data": {
      "text/plain": [
       "True"
      ]
     },
     "execution_count": 32,
     "metadata": {},
     "output_type": "execute_result"
    }
   ],
   "source": [
    "\"a\" in [\"a\", \"b\", \"c\"]"
   ]
  },
  {
   "cell_type": "code",
   "execution_count": 33,
   "id": "860a126b-b68c-4084-8359-8604cbc26eab",
   "metadata": {},
   "outputs": [
    {
     "data": {
      "text/plain": [
       "False"
      ]
     },
     "execution_count": 33,
     "metadata": {},
     "output_type": "execute_result"
    }
   ],
   "source": [
    "\"e\" in [\"a\", \"b\", \"c\"]"
   ]
  },
  {
   "cell_type": "code",
   "execution_count": 34,
   "id": "d9a3a4e3-5f4a-4530-9098-f85bd6b5663f",
   "metadata": {},
   "outputs": [
    {
     "data": {
      "text/plain": [
       "False"
      ]
     },
     "execution_count": 34,
     "metadata": {},
     "output_type": "execute_result"
    }
   ],
   "source": [
    "## Podemos negar la condicion:\n",
    "\"a\" not in [\"a\", \"b\", \"c\"]"
   ]
  },
  {
   "cell_type": "markdown",
   "id": "645069f5-f10d-43d1-b273-009ff1b8acfd",
   "metadata": {},
   "source": [
    "Podemos entonces extraer las variables numeras de la lista completa validando que no exista en la lista de variables categoricas.\n",
    "Hay varias maneras de hacer, esta vez lo vamos a realizar con un ciclo **for**, vamos a aprender algo nuevo, un cilo **for** de una linea, que nos retorna una lista. La sintaxis es la siguiente:\n",
    "```Python    \n",
    "resultado = [elemento for elemento in lista de elementos]\n",
    "```\n",
    "\n",
    "Esta entre `[]` ya que a *elemento* le va hacer append en cada iteracion del ciclo, entonces esta sintaxis nos retorna una lista, resutlado de un ciclo **for**. Podemos agredar un **if** en la misma linea.\n",
    "```Python  \n",
    "columnas_numericas = [col for col in columnas if col not in columnas_categoricas] \n",
    "```\n",
    "Que hace este codigo, \n",
    "1) Recorremos con un for todas las columnas en la variable **columnas** y almacenamos la columna en **col**: `for col in columnas`\n",
    "2) Validamos que **col** no este en la lista de categoricas `if col not in columnas_categoricas`\n",
    "3) Si la codicion anterior es True hacemos append de col `[col .....]`"
   ]
  },
  {
   "cell_type": "code",
   "execution_count": 28,
   "id": "98b99855-a0a7-48d9-a9a9-531b45e0cc09",
   "metadata": {},
   "outputs": [],
   "source": [
    "columnas_numericas = [col for col in columnas if col not in columnas_categoricas] "
   ]
  },
  {
   "cell_type": "code",
   "execution_count": 29,
   "id": "ebf469e7-1255-44b0-abab-231ab87a7983",
   "metadata": {},
   "outputs": [
    {
     "name": "stdout",
     "output_type": "stream",
     "text": [
      "['age_at_diagnosis', 'chemotherapy', 'cohort', 'neoplasm_histologic_grade', 'hormone_therapy', 'lymph_nodes_examined_positive', 'mutation_count', 'nottingham_prognostic_index', 'overall_survival', 'radio_therapy', 'tumor_size', 'tumor_stage']\n"
     ]
    }
   ],
   "source": [
    "print(columnas_numericas)"
   ]
  },
  {
   "cell_type": "markdown",
   "id": "43c1cf35-a0e1-4745-ab05-540570cf6ae6",
   "metadata": {},
   "source": [
    "### Correlacion Variables Numericas"
   ]
  },
  {
   "cell_type": "code",
   "execution_count": 32,
   "id": "35bf8bf9-f367-4b93-bb81-886d1de32fb3",
   "metadata": {},
   "outputs": [],
   "source": [
    "correcion_numerica = data_clinica[columnas_numericas].corr()"
   ]
  },
  {
   "cell_type": "code",
   "execution_count": 33,
   "id": "7b00fce8-6f4c-4928-813d-89800a5e826a",
   "metadata": {},
   "outputs": [
    {
     "data": {
      "text/plain": [
       "overall_survival                 1.000000\n",
       "radio_therapy                    0.112083\n",
       "chemotherapy                     0.045625\n",
       "hormone_therapy                 -0.030401\n",
       "mutation_count                  -0.077741\n",
       "neoplasm_histologic_grade       -0.086601\n",
       "nottingham_prognostic_index     -0.138000\n",
       "cohort                          -0.149645\n",
       "tumor_size                      -0.164361\n",
       "lymph_nodes_examined_positive   -0.164498\n",
       "tumor_stage                     -0.188790\n",
       "age_at_diagnosis                -0.303666\n",
       "Name: overall_survival, dtype: float64"
      ]
     },
     "execution_count": 33,
     "metadata": {},
     "output_type": "execute_result"
    }
   ],
   "source": [
    "correcion_numerica['overall_survival'].sort_values( ascending=False)"
   ]
  },
  {
   "cell_type": "markdown",
   "id": "2b2fc2c1-0e10-4b19-aa79-8b7ea3c7926c",
   "metadata": {},
   "source": [
    "Podemos ver que tambien tenemos valores negativos en la correlacion, estos son importantes tambien, vamos a calcular el valor absoluto de estos y ordenarlos segun su magnitud"
   ]
  },
  {
   "cell_type": "code",
   "execution_count": 34,
   "id": "7b6546f7-c03c-4122-81f9-bc0338d63992",
   "metadata": {},
   "outputs": [
    {
     "data": {
      "text/plain": [
       "overall_survival                 1.000000\n",
       "age_at_diagnosis                 0.303666\n",
       "tumor_stage                      0.188790\n",
       "lymph_nodes_examined_positive    0.164498\n",
       "tumor_size                       0.164361\n",
       "cohort                           0.149645\n",
       "nottingham_prognostic_index      0.138000\n",
       "radio_therapy                    0.112083\n",
       "neoplasm_histologic_grade        0.086601\n",
       "mutation_count                   0.077741\n",
       "chemotherapy                     0.045625\n",
       "hormone_therapy                  0.030401\n",
       "Name: overall_survival, dtype: float64"
      ]
     },
     "execution_count": 34,
     "metadata": {},
     "output_type": "execute_result"
    }
   ],
   "source": [
    "correcion_numerica['overall_survival'].abs().sort_values( ascending=False)"
   ]
  },
  {
   "cell_type": "markdown",
   "id": "f1aebe3b-93e9-410a-b155-3bc1b150437b",
   "metadata": {},
   "source": [
    "En este punto ya conocemos que variables numericas y categoricas estan mas relacionadas a la variable objetivo.\n",
    "De forma muy resumida completamos las primeras 3 fases. Recordemos que hay mucho ams trabajo por hacer ya te tenemos variables geneticas que no estamos utilizando.\n",
    "\n",
    "\n",
    "\n",
    "<br><br><br><br>\n",
    "<img src=\"https://miro.medium.com/v2/resize:fit:1200/1*eE8DP4biqtaIK3aIy1S2zA.png\">\n",
    "\n",
    "Momento de experimentar!!!"
   ]
  },
  {
   "cell_type": "code",
   "execution_count": null,
   "id": "3b06b221-df8f-4405-97c2-a353b3e6007a",
   "metadata": {},
   "outputs": [],
   "source": []
  },
  {
   "cell_type": "markdown",
   "id": "c68bf7a1-66c6-47ce-b3e6-f015d7507adf",
   "metadata": {},
   "source": [
    "# Experimentación con Modelos\n",
    "\n",
    "En Machine Learning, mientras que algunos modelos predictivos permiten variables categóricas en los datos (por ejemplo, Naive Bayes, Árbol de decisión), la mayoría requiere que todas las variables predictoras sean continuas (por ejemplo, Regresión lineal, Regresión logística, Redes neuronales, Máquina de vectores de soporte). Por lo tanto, es muy común que tengamos que transformar nuestros datos, de valores categóricos a numéricos."
   ]
  },
  {
   "cell_type": "markdown",
   "id": "63bc6927-12cd-4bf9-815e-13536f309ed4",
   "metadata": {},
   "source": [
    "#### One-Hot encoding\n",
    "\n",
    "Este es un método simple, no paramétrico, que se puede usar para cualquier tipo de variable categórica sin suposiciones sobre sus valores. Si nuestra característica (categórica) tiene, por ejemplo, 5 valores distintos, dividimos esta característica (categórica) en 5 características (numéricas), cada una corresponde a un valor distinto. Para estas 5 características nuevas, solo una de ellas tiene el valor 1, mientras que las demás tienen el valor 0. Para cada punto de datos de muestra, la característica que tiene el valor 1 es la característica correspondiente al valor de este punto de datos en la característica categórica original.\n",
    "\n",
    "\n",
    "En pandas podemos utilizar la función [get_dummies](https://pandas.pydata.org/docs/reference/api/pandas.get_dummies.html).\n",
    "\n",
    "Ejemplo:"
   ]
  },
  {
   "cell_type": "code",
   "execution_count": 35,
   "id": "4ccfe446-eb5c-4629-96f3-bece382bfd90",
   "metadata": {},
   "outputs": [
    {
     "data": {
      "text/html": [
       "<div>\n",
       "<style scoped>\n",
       "    .dataframe tbody tr th:only-of-type {\n",
       "        vertical-align: middle;\n",
       "    }\n",
       "\n",
       "    .dataframe tbody tr th {\n",
       "        vertical-align: top;\n",
       "    }\n",
       "\n",
       "    .dataframe thead th {\n",
       "        text-align: right;\n",
       "    }\n",
       "</style>\n",
       "<table border=\"1\" class=\"dataframe\">\n",
       "  <thead>\n",
       "    <tr style=\"text-align: right;\">\n",
       "      <th></th>\n",
       "      <th>cancer_type_Breast Cancer</th>\n",
       "      <th>cancer_type_Breast Sarcoma</th>\n",
       "    </tr>\n",
       "  </thead>\n",
       "  <tbody>\n",
       "    <tr>\n",
       "      <th>0</th>\n",
       "      <td>1</td>\n",
       "      <td>0</td>\n",
       "    </tr>\n",
       "    <tr>\n",
       "      <th>1</th>\n",
       "      <td>1</td>\n",
       "      <td>0</td>\n",
       "    </tr>\n",
       "    <tr>\n",
       "      <th>2</th>\n",
       "      <td>1</td>\n",
       "      <td>0</td>\n",
       "    </tr>\n",
       "    <tr>\n",
       "      <th>3</th>\n",
       "      <td>1</td>\n",
       "      <td>0</td>\n",
       "    </tr>\n",
       "    <tr>\n",
       "      <th>4</th>\n",
       "      <td>1</td>\n",
       "      <td>0</td>\n",
       "    </tr>\n",
       "    <tr>\n",
       "      <th>...</th>\n",
       "      <td>...</td>\n",
       "      <td>...</td>\n",
       "    </tr>\n",
       "    <tr>\n",
       "      <th>1899</th>\n",
       "      <td>1</td>\n",
       "      <td>0</td>\n",
       "    </tr>\n",
       "    <tr>\n",
       "      <th>1900</th>\n",
       "      <td>1</td>\n",
       "      <td>0</td>\n",
       "    </tr>\n",
       "    <tr>\n",
       "      <th>1901</th>\n",
       "      <td>1</td>\n",
       "      <td>0</td>\n",
       "    </tr>\n",
       "    <tr>\n",
       "      <th>1902</th>\n",
       "      <td>1</td>\n",
       "      <td>0</td>\n",
       "    </tr>\n",
       "    <tr>\n",
       "      <th>1903</th>\n",
       "      <td>1</td>\n",
       "      <td>0</td>\n",
       "    </tr>\n",
       "  </tbody>\n",
       "</table>\n",
       "<p>1904 rows × 2 columns</p>\n",
       "</div>"
      ],
      "text/plain": [
       "      cancer_type_Breast Cancer  cancer_type_Breast Sarcoma\n",
       "0                             1                           0\n",
       "1                             1                           0\n",
       "2                             1                           0\n",
       "3                             1                           0\n",
       "4                             1                           0\n",
       "...                         ...                         ...\n",
       "1899                          1                           0\n",
       "1900                          1                           0\n",
       "1901                          1                           0\n",
       "1902                          1                           0\n",
       "1903                          1                           0\n",
       "\n",
       "[1904 rows x 2 columns]"
      ]
     },
     "execution_count": 35,
     "metadata": {},
     "output_type": "execute_result"
    }
   ],
   "source": [
    "pd.get_dummies(data_clinica['cancer_type'], prefix='cancer_type')"
   ]
  },
  {
   "cell_type": "markdown",
   "id": "3493a5c4-c88b-48b4-9480-a15396060d06",
   "metadata": {},
   "source": [
    ">  **Pregunta Examen**: Para que se utiliza el parametro `prefix`\n",
    "    \n",
    "**Respuesta**: Para hacer append al nombre de las columnas en el dataframe."
   ]
  },
  {
   "cell_type": "markdown",
   "id": "aa30aee6-a3c0-4ed0-83e6-5c5cb1af23e2",
   "metadata": {},
   "source": [
    "Vamos a utilizar las 4 variables categoricas mas dependencia tienen con la variable objetivo\n",
    "- cancer_type:  Breast cancer types: 1- Breast Cancer or 2- Breast Sarcoma \n",
    "- er_status:  Cancer cells are positive or negative for estrogen receptors\n",
    "- er_status_measured_by_ihc: To assess if estrogen receptors are expressed on cancer cells by using immune-histochemistry (a dye used in pathology that targets specific antigen, if it is there, it will give a color, it is not there, the tissue on the slide will be colored) (positive/negative)  \n",
    "- cellularity: Cancer cellularity post chemotherapy, which refers to the amount of tumor cells in the specimen and their arrangement into clusters"
   ]
  },
  {
   "cell_type": "code",
   "execution_count": 36,
   "id": "335e26cb-8efb-434a-9fb4-f4629578f6ff",
   "metadata": {},
   "outputs": [],
   "source": [
    "categoricas = [\"cancer_type\", \"er_status\", \"er_status_measured_by_ihc\", \"cellularity\"]"
   ]
  },
  {
   "cell_type": "code",
   "execution_count": 37,
   "id": "a832bdee-d65e-4887-8e63-c4409687a10b",
   "metadata": {},
   "outputs": [
    {
     "data": {
      "text/html": [
       "<div>\n",
       "<style scoped>\n",
       "    .dataframe tbody tr th:only-of-type {\n",
       "        vertical-align: middle;\n",
       "    }\n",
       "\n",
       "    .dataframe tbody tr th {\n",
       "        vertical-align: top;\n",
       "    }\n",
       "\n",
       "    .dataframe thead th {\n",
       "        text-align: right;\n",
       "    }\n",
       "</style>\n",
       "<table border=\"1\" class=\"dataframe\">\n",
       "  <thead>\n",
       "    <tr style=\"text-align: right;\">\n",
       "      <th></th>\n",
       "      <th>cancer_type_Breast Cancer</th>\n",
       "      <th>cancer_type_Breast Sarcoma</th>\n",
       "      <th>er_status_Negative</th>\n",
       "      <th>er_status_Positive</th>\n",
       "      <th>er_status_measured_by_ihc_Negative</th>\n",
       "      <th>er_status_measured_by_ihc_Positve</th>\n",
       "      <th>cellularity_High</th>\n",
       "      <th>cellularity_Low</th>\n",
       "      <th>cellularity_Moderate</th>\n",
       "    </tr>\n",
       "  </thead>\n",
       "  <tbody>\n",
       "    <tr>\n",
       "      <th>0</th>\n",
       "      <td>1</td>\n",
       "      <td>0</td>\n",
       "      <td>0</td>\n",
       "      <td>1</td>\n",
       "      <td>0</td>\n",
       "      <td>1</td>\n",
       "      <td>0</td>\n",
       "      <td>0</td>\n",
       "      <td>0</td>\n",
       "    </tr>\n",
       "    <tr>\n",
       "      <th>1</th>\n",
       "      <td>1</td>\n",
       "      <td>0</td>\n",
       "      <td>0</td>\n",
       "      <td>1</td>\n",
       "      <td>0</td>\n",
       "      <td>1</td>\n",
       "      <td>1</td>\n",
       "      <td>0</td>\n",
       "      <td>0</td>\n",
       "    </tr>\n",
       "    <tr>\n",
       "      <th>2</th>\n",
       "      <td>1</td>\n",
       "      <td>0</td>\n",
       "      <td>0</td>\n",
       "      <td>1</td>\n",
       "      <td>0</td>\n",
       "      <td>1</td>\n",
       "      <td>1</td>\n",
       "      <td>0</td>\n",
       "      <td>0</td>\n",
       "    </tr>\n",
       "    <tr>\n",
       "      <th>3</th>\n",
       "      <td>1</td>\n",
       "      <td>0</td>\n",
       "      <td>0</td>\n",
       "      <td>1</td>\n",
       "      <td>0</td>\n",
       "      <td>1</td>\n",
       "      <td>0</td>\n",
       "      <td>0</td>\n",
       "      <td>1</td>\n",
       "    </tr>\n",
       "    <tr>\n",
       "      <th>4</th>\n",
       "      <td>1</td>\n",
       "      <td>0</td>\n",
       "      <td>0</td>\n",
       "      <td>1</td>\n",
       "      <td>0</td>\n",
       "      <td>1</td>\n",
       "      <td>1</td>\n",
       "      <td>0</td>\n",
       "      <td>0</td>\n",
       "    </tr>\n",
       "  </tbody>\n",
       "</table>\n",
       "</div>"
      ],
      "text/plain": [
       "   cancer_type_Breast Cancer  cancer_type_Breast Sarcoma  er_status_Negative  \\\n",
       "0                          1                           0                   0   \n",
       "1                          1                           0                   0   \n",
       "2                          1                           0                   0   \n",
       "3                          1                           0                   0   \n",
       "4                          1                           0                   0   \n",
       "\n",
       "   er_status_Positive  er_status_measured_by_ihc_Negative  \\\n",
       "0                   1                                   0   \n",
       "1                   1                                   0   \n",
       "2                   1                                   0   \n",
       "3                   1                                   0   \n",
       "4                   1                                   0   \n",
       "\n",
       "   er_status_measured_by_ihc_Positve  cellularity_High  cellularity_Low  \\\n",
       "0                                  1                 0                0   \n",
       "1                                  1                 1                0   \n",
       "2                                  1                 1                0   \n",
       "3                                  1                 0                0   \n",
       "4                                  1                 1                0   \n",
       "\n",
       "   cellularity_Moderate  \n",
       "0                     0  \n",
       "1                     0  \n",
       "2                     0  \n",
       "3                     1  \n",
       "4                     0  "
      ]
     },
     "execution_count": 37,
     "metadata": {},
     "output_type": "execute_result"
    }
   ],
   "source": [
    "variables_cat_transformadas = pd.get_dummies(data_clinica[categoricas], prefix=categoricas)\n",
    "variables_cat_transformadas.head()"
   ]
  },
  {
   "cell_type": "markdown",
   "id": "967b5b2b-c799-401a-b00d-e3b31556a5b8",
   "metadata": {},
   "source": [
    "Ya tenemos las variables categoricas transformadas y listas para los modelos!"
   ]
  },
  {
   "cell_type": "markdown",
   "id": "968ecf62-2a57-464d-8871-4866642e47ed",
   "metadata": {},
   "source": [
    ">  **Pregunta Examen**: Explica el contenido de el dataframe variables_cat_transformadas, explica que dimenciones tiene y el porque de estas\n",
    "\n",
    "\n",
    "**Respuesta**: Es un dataframe que contiene variables dummy de 4 variables categoricas del dataframe data_clinica que tienen p-value >=0.05, esto quiere decir que a cada valor de cada una de las variables categoricas se les asigna 0 ó 1. Su dimensión es (1904, 9) que son las 1904 filas de data_clinica y 9 columnas que corresponden a las 4 variables categoricas. 2 columnas para cancer_type, 2 columnas para er_status, 2 columnas paraer_status_measured y 3 columnas para cellularity."
   ]
  },
  {
   "cell_type": "markdown",
   "id": "d2754040-3ba5-4642-bbdf-5dede95e8dcd",
   "metadata": {},
   "source": [
    "### Dataset Final\n",
    "Hay que crear un dataset final con las variables categoricas ya transformadas y las variables numericas que vamos a seleccionar, sin la variable objetico esta va a estar en otro objeto.\n",
    "Lo vamos a llamar dataframe `X`.\n",
    "Tambien vamos a crear la `y` donde vamos a guardar la variable objetivo.\n"
   ]
  },
  {
   "cell_type": "markdown",
   "id": "027157cb-a61c-4ecb-8266-c5ec643a0c2d",
   "metadata": {},
   "source": [
    "#### Variables de entreda (X)\n",
    "\n",
    "#### 1) Separemos las variables numericas que vamos a utilizar\n",
    "- age_at_diagnosis\n",
    "- tumor_stage\n",
    "- lymph_nodes_examined_positive\n",
    "- tumor_size\n",
    "- cohort\n",
    "- nottingham_prognostic_index\n",
    "- radio_therapy\n",
    "- neoplasm_histologic_grade "
   ]
  },
  {
   "cell_type": "code",
   "execution_count": 75,
   "id": "72e895b3-26f9-4566-9f2b-cc5f2567b581",
   "metadata": {},
   "outputs": [],
   "source": [
    "top_num_variables = [\n",
    "    'age_at_diagnosis', 'tumor_stage', 'lymph_nodes_examined_positive', \n",
    "    'tumor_size', 'cohort', 'nottingham_prognostic_index', 'radio_therapy', 'neoplasm_histologic_grade'\n",
    "]\n",
    "\n",
    "variables_numericas = data_clinica[top_num_variables]"
   ]
  },
  {
   "cell_type": "markdown",
   "id": "85cde40e-61c0-43a6-a8b4-5c29a552537a",
   "metadata": {},
   "source": [
    ">  **Pregunta Examen**: Explica el codigo de arriba, la celda anterior\n",
    "    \n",
    "**Respuesta**: Primero se crea la lista top_num_variables cuyos elementos son los nombres de las variables numericas que vamos a utilizar. Segundo se crea el dataframe variables_numericas que se crea a partir del dataframe data_clinica, en este le indicamos que vamos a usar unicamente las columnas cuyo nombre aparece en la lista top_num_variables.  "
   ]
  },
  {
   "cell_type": "markdown",
   "id": "39d4d029-d704-450b-a192-f45b11742f41",
   "metadata": {},
   "source": [
    ">  **Pregunta Examen**: \n",
    "\n",
    "- ¿Que tipo de objeto es `variables_cat_transformadas` y que contiene?\n",
    "- ¿Que tipo de objeto es `variables_numericas` y que contiene?\n",
    "    \n",
    "**Respuesta**: \n",
    "1. Es un dataframe que contiene variables dummy o indicadoras de 4 variables categoricas del dataframe data_clinica que tienen el p-value>=0.05 mas grande.\n",
    "2. Es un dataframe que contiene 8 variables numericas, es decir de tipo int y float, del dataframe data_clinica.  "
   ]
  },
  {
   "cell_type": "markdown",
   "id": "b76395dd-5c96-4f2e-851f-0cfee571c470",
   "metadata": {},
   "source": [
    "#### 2) Unimos los dataframes de categoricas y numericas\n",
    "Finalmente creamos la `X`, con la funcion [concat](https://pandas.pydata.org/docs/user_guide/merging.html)"
   ]
  },
  {
   "cell_type": "code",
   "execution_count": 76,
   "id": "149174e1-1a9e-49db-a9c7-f7a11dadfb7b",
   "metadata": {},
   "outputs": [],
   "source": [
    "X = pd.concat([variables_cat_transformadas, variables_numericas], axis=1)"
   ]
  },
  {
   "cell_type": "markdown",
   "id": "bcca0d46-d1eb-4e6e-a814-310004ba2036",
   "metadata": {},
   "source": [
    ">  **Pregunta Examen**:  En la función `concat` que significa el valor 1 en el parametro `axis`, porque enviamos la lista de dataframes\n",
    "    \n",
    "**Respuesta**: \n",
    "1. El valor 1 indica el eje a lo largo del cual se da la concatenación. axis=1 indica que la concatenación es de un dataframe a la par del otro a lo largo del eje 1 (horizontal), es decir, se colocan las columnas del primer dataframe y a la par se pegan las columnas del segundo dataframe.  \n",
    "2. enviamos la lista de dataframes para indicar que esos son los dataframes que se van a concatenar. "
   ]
  },
  {
   "cell_type": "markdown",
   "id": "2a98f3e8-4817-490f-8256-632d7f666dd6",
   "metadata": {},
   "source": [
    "#### 3) Validemos los detalles de los datos en X"
   ]
  },
  {
   "cell_type": "code",
   "execution_count": 77,
   "id": "a4140979-26f5-4a24-a51b-bf61947edb9a",
   "metadata": {},
   "outputs": [
    {
     "data": {
      "text/plain": [
       "(1904, 17)"
      ]
     },
     "execution_count": 77,
     "metadata": {},
     "output_type": "execute_result"
    }
   ],
   "source": [
    "X.shape"
   ]
  },
  {
   "cell_type": "code",
   "execution_count": 78,
   "id": "8a928622-619c-4347-9f96-fb9b5af6e366",
   "metadata": {},
   "outputs": [
    {
     "name": "stdout",
     "output_type": "stream",
     "text": [
      "<class 'pandas.core.frame.DataFrame'>\n",
      "RangeIndex: 1904 entries, 0 to 1903\n",
      "Data columns (total 17 columns):\n",
      " #   Column                              Non-Null Count  Dtype  \n",
      "---  ------                              --------------  -----  \n",
      " 0   cancer_type_Breast Cancer           1904 non-null   uint8  \n",
      " 1   cancer_type_Breast Sarcoma          1904 non-null   uint8  \n",
      " 2   er_status_Negative                  1904 non-null   uint8  \n",
      " 3   er_status_Positive                  1904 non-null   uint8  \n",
      " 4   er_status_measured_by_ihc_Negative  1904 non-null   uint8  \n",
      " 5   er_status_measured_by_ihc_Positve   1904 non-null   uint8  \n",
      " 6   cellularity_High                    1904 non-null   uint8  \n",
      " 7   cellularity_Low                     1904 non-null   uint8  \n",
      " 8   cellularity_Moderate                1904 non-null   uint8  \n",
      " 9   age_at_diagnosis                    1904 non-null   float64\n",
      " 10  tumor_stage                         1403 non-null   float64\n",
      " 11  lymph_nodes_examined_positive       1904 non-null   float64\n",
      " 12  tumor_size                          1884 non-null   float64\n",
      " 13  cohort                              1904 non-null   float64\n",
      " 14  nottingham_prognostic_index         1904 non-null   float64\n",
      " 15  radio_therapy                       1904 non-null   int64  \n",
      " 16  neoplasm_histologic_grade           1832 non-null   float64\n",
      "dtypes: float64(7), int64(1), uint8(9)\n",
      "memory usage: 135.9 KB\n"
     ]
    }
   ],
   "source": [
    "X.info()"
   ]
  },
  {
   "cell_type": "markdown",
   "id": "a861e950-65b7-431d-a0e3-a903d597d249",
   "metadata": {},
   "source": [
    "Tenemos 1904 datos, La columna ` Non-Null Count` cuantos datos no nulos hay en la variable.\n",
    "\n",
    ">  **Pregunta Examen**: ¿Que Columnas tienen valores nulos?\n",
    "\n",
    "- ¿Que tipo de objeto es `variables_cat_transformadas` y que contiene?\n",
    "- ¿Que tipo de objeto es `variables_numericas` y que contiene?\n",
    "    \n",
    "**Respuesta**: \n",
    "1. Las columnas que tienen valores nulos son tumor_stage con 501 valores nulos, tumor_size con 20 valores nulos, neoplasm_histologic_grade con 72 valores nulos.  \n",
    "2. Es un dataframe que contiene variables dummy o indicadoras de 4 variables categoricas del dataframe data_clinica que tienen el p-value>=0.05 mas grande.\n",
    "3. Es un dataframe que contiene 8 variables numericas, es decir de tipo int y float, del dataframe data_clinica."
   ]
  },
  {
   "cell_type": "markdown",
   "id": "c7d154ac-6477-4b5e-a41b-fdbe015991be",
   "metadata": {},
   "source": [
    "#### 4) Estrategias para datos nulos\n",
    "\n",
    "Vamos a utilizar la función [SimpleImputer](https://scikit-learn.org/stable/modules/generated/sklearn.impute.SimpleImputer.html) para manejar los valores nulos.\n",
    "\n",
    "Tenemos diferentes estrategias, para manejar los valores nulos, las podemos utilizar enviando el parametro `strategy`\n",
    "- If “mean”, then replace missing values using the mean along each column. Can only be used with numeric data.\n",
    "- If “median”, then replace missing values using the median along each column. Can only be used with numeric data.\n",
    "- If “most_frequent”, then replace missing using the most frequent value along each column. Can be used with strings or numeric data. If there is more than one such value, only the smallest is returned.\n",
    "- If “constant”, then replace missing values with fill_value. Can be used with strings or numeric data.\n",
    "\n",
    "Llenemos los valores nulos de las columnas"
   ]
  },
  {
   "cell_type": "code",
   "execution_count": 79,
   "id": "0aa7788e-fdba-4581-b416-d9b6502cab88",
   "metadata": {},
   "outputs": [],
   "source": [
    "from sklearn.impute import SimpleImputer"
   ]
  },
  {
   "cell_type": "code",
   "execution_count": 80,
   "id": "0d4a71fc-d4cc-47fd-9b96-f682d395d4a0",
   "metadata": {},
   "outputs": [
    {
     "data": {
      "text/plain": [
       "array([ 2.,  1.,  2., ..., nan, nan, nan])"
      ]
     },
     "execution_count": 80,
     "metadata": {},
     "output_type": "execute_result"
    }
   ],
   "source": [
    "X['tumor_stage'].values"
   ]
  },
  {
   "cell_type": "code",
   "execution_count": 81,
   "id": "0f985141-27ba-47ac-ac95-b08723b740e5",
   "metadata": {},
   "outputs": [],
   "source": [
    "## Definimos el Inputador\n",
    "imp_tumor_stage = SimpleImputer(missing_values=np.nan, strategy='most_frequent')\n",
    "\n",
    "## Entrenamos el inputador\n",
    "imp_tumor_stage.fit(X['tumor_stage'].values.reshape(-1,1))\n",
    "\n",
    "## Reemplazamos los valores Nulos\n",
    "X['tumor_stage'] = imp_tumor_stage.transform(X['tumor_stage'].values.reshape(-1,1))"
   ]
  },
  {
   "cell_type": "code",
   "execution_count": 82,
   "id": "dbaf3604-e8fb-4493-b096-11728539b342",
   "metadata": {},
   "outputs": [
    {
     "name": "stdout",
     "output_type": "stream",
     "text": [
      "<class 'pandas.core.frame.DataFrame'>\n",
      "RangeIndex: 1904 entries, 0 to 1903\n",
      "Data columns (total 17 columns):\n",
      " #   Column                              Non-Null Count  Dtype  \n",
      "---  ------                              --------------  -----  \n",
      " 0   cancer_type_Breast Cancer           1904 non-null   uint8  \n",
      " 1   cancer_type_Breast Sarcoma          1904 non-null   uint8  \n",
      " 2   er_status_Negative                  1904 non-null   uint8  \n",
      " 3   er_status_Positive                  1904 non-null   uint8  \n",
      " 4   er_status_measured_by_ihc_Negative  1904 non-null   uint8  \n",
      " 5   er_status_measured_by_ihc_Positve   1904 non-null   uint8  \n",
      " 6   cellularity_High                    1904 non-null   uint8  \n",
      " 7   cellularity_Low                     1904 non-null   uint8  \n",
      " 8   cellularity_Moderate                1904 non-null   uint8  \n",
      " 9   age_at_diagnosis                    1904 non-null   float64\n",
      " 10  tumor_stage                         1904 non-null   float64\n",
      " 11  lymph_nodes_examined_positive       1904 non-null   float64\n",
      " 12  tumor_size                          1884 non-null   float64\n",
      " 13  cohort                              1904 non-null   float64\n",
      " 14  nottingham_prognostic_index         1904 non-null   float64\n",
      " 15  radio_therapy                       1904 non-null   int64  \n",
      " 16  neoplasm_histologic_grade           1832 non-null   float64\n",
      "dtypes: float64(7), int64(1), uint8(9)\n",
      "memory usage: 135.9 KB\n"
     ]
    }
   ],
   "source": [
    "X.info()"
   ]
  },
  {
   "cell_type": "markdown",
   "id": "5a849abb-31e2-4dd5-b0a2-a6b1730127ac",
   "metadata": {},
   "source": [
    "Ya no tenemos valores nulos en la variable `tumor_stage`.\n",
    "\n",
    "Aun quedan 2 columnas que tienen valores nulos"
   ]
  },
  {
   "cell_type": "code",
   "execution_count": 130,
   "id": "60f74250-c414-4621-853e-138d8fc729e6",
   "metadata": {},
   "outputs": [],
   "source": [
    "## ====== Columna tumor_size ===========\n",
    "## Definimos el Inputador\n",
    "imputer_tumor_size = SimpleImputer(missing_values=np.nan, strategy='mean')\n",
    "\n",
    "## Entrenamos el inputador\n",
    "imputer_tumor_size.fit(X['tumor_size'].values.reshape(-1,1))\n",
    "\n",
    "## Reemplazamos los valores Nulos\n",
    "X['tumor_size'] = imputer_tumor_size.transform(X['tumor_size'].values.reshape(-1,1))"
   ]
  },
  {
   "cell_type": "markdown",
   "id": "1f04b216-fab1-45fa-b816-adf9c94a4cde",
   "metadata": {},
   "source": [
    ">  **Pregunta Examen**: Para el siguiente inputador a tu criterio define la estrategia en el parametro `strategy`, estamos reemplazando los valores nulos de la columna `neoplasm_histologic_grade`\n",
    "\n",
    "neoplasm_histologic_grade: Determined by pathology by looking the nature of the cells, do they look aggressive or not (It takes a value from 1 to 3)                                                                                                                 "
   ]
  },
  {
   "cell_type": "code",
   "execution_count": 117,
   "id": "f876e389-fd48-4364-b9e2-62abac344744",
   "metadata": {},
   "outputs": [
    {
     "data": {
      "text/plain": [
       "array([3., 2., 1.])"
      ]
     },
     "execution_count": 117,
     "metadata": {},
     "output_type": "execute_result"
    }
   ],
   "source": [
    "## Valores unicos de la columna\n",
    "X['neoplasm_histologic_grade'].unique()"
   ]
  },
  {
   "cell_type": "code",
   "execution_count": 131,
   "id": "e97752b9-665b-4420-b203-678546f1de96",
   "metadata": {},
   "outputs": [],
   "source": [
    "## ====== Columna neoplasm_histologic_grade ===========\n",
    "## Definimos el Inputador\n",
    "imputer_nhg = SimpleImputer(missing_values=np.nan, strategy='median')\n",
    "\n",
    "## Entrenamos el inputador\n",
    "imputer_nhg.fit(X['neoplasm_histologic_grade'].values.reshape(-1,1))\n",
    "\n",
    "## Reemplazamos los valores Nulos\n",
    "X['neoplasm_histologic_grade'] = imputer_nhg.transform(X['neoplasm_histologic_grade'].values.reshape(-1,1))"
   ]
  },
  {
   "cell_type": "code",
   "execution_count": 132,
   "id": "57ca4734-a9a7-43b9-8255-165ca188d60d",
   "metadata": {},
   "outputs": [
    {
     "name": "stdout",
     "output_type": "stream",
     "text": [
      "<class 'pandas.core.frame.DataFrame'>\n",
      "RangeIndex: 1904 entries, 0 to 1903\n",
      "Data columns (total 17 columns):\n",
      " #   Column                              Non-Null Count  Dtype  \n",
      "---  ------                              --------------  -----  \n",
      " 0   cancer_type_Breast Cancer           1904 non-null   uint8  \n",
      " 1   cancer_type_Breast Sarcoma          1904 non-null   uint8  \n",
      " 2   er_status_Negative                  1904 non-null   uint8  \n",
      " 3   er_status_Positive                  1904 non-null   uint8  \n",
      " 4   er_status_measured_by_ihc_Negative  1904 non-null   uint8  \n",
      " 5   er_status_measured_by_ihc_Positve   1904 non-null   uint8  \n",
      " 6   cellularity_High                    1904 non-null   uint8  \n",
      " 7   cellularity_Low                     1904 non-null   uint8  \n",
      " 8   cellularity_Moderate                1904 non-null   uint8  \n",
      " 9   age_at_diagnosis                    1904 non-null   float64\n",
      " 10  tumor_stage                         1904 non-null   float64\n",
      " 11  lymph_nodes_examined_positive       1904 non-null   float64\n",
      " 12  tumor_size                          1904 non-null   float64\n",
      " 13  cohort                              1904 non-null   float64\n",
      " 14  nottingham_prognostic_index         1904 non-null   float64\n",
      " 15  radio_therapy                       1904 non-null   int64  \n",
      " 16  neoplasm_histologic_grade           1904 non-null   float64\n",
      "dtypes: float64(7), int64(1), uint8(9)\n",
      "memory usage: 135.9 KB\n"
     ]
    }
   ],
   "source": [
    "X.info()"
   ]
  },
  {
   "cell_type": "markdown",
   "id": "1c40b900-0783-4933-9050-03e0d686ada9",
   "metadata": {},
   "source": [
    "Ya no tenemos data nula!!"
   ]
  },
  {
   "cell_type": "markdown",
   "id": "9b1775c2-1d78-4589-9ac5-2923324588d3",
   "metadata": {},
   "source": [
    "### Creamos la `y` nuestra variable objetivo"
   ]
  },
  {
   "cell_type": "code",
   "execution_count": 133,
   "id": "51c05ee0-f0f3-42a6-b44a-ed20aa773bf6",
   "metadata": {},
   "outputs": [],
   "source": [
    "y = data_clinica['overall_survival']"
   ]
  },
  {
   "cell_type": "markdown",
   "id": "937ad9d4-440a-4e5e-af3e-8d9cebe72e42",
   "metadata": {},
   "source": [
    "Tenemos lista la data de `X` y `y` para realizar los experimentos."
   ]
  },
  {
   "cell_type": "markdown",
   "id": "c09edc13-348a-47f7-8a05-d14d6de27794",
   "metadata": {
    "tags": []
   },
   "source": [
    "## Dataset Split\n",
    "\n",
    "- **Conjunto de entrenamiento**: el conjunto de datos con el que alimentamos nuestro modelo para aprender posibles patrones y relaciones subyacentes.\n",
    "- **Conjunto de prueba**: el conjunto de datos que usamos para aproximar la precisión imparcial de nuestro modelo en la naturaleza.\n",
    "\n",
    "\n",
    "Para este ejercicio vamos a utilizar un split de 80-20, es decir 80% de los datos para el dataset de entrenamiento y 20% para el de prueba, para esto vamos a utilizar la funcion de sklean `train_test_split`.\n",
    "\n",
    "Documentacion de [train_test_split](https://scikit-learn.org/stable/modules/generated/sklearn.model_selection.train_test_split.html)"
   ]
  },
  {
   "cell_type": "code",
   "execution_count": 106,
   "id": "15313fc9-d5bd-4d83-bc3e-2f69a61319ef",
   "metadata": {},
   "outputs": [],
   "source": [
    "from sklearn.model_selection import train_test_split"
   ]
  },
  {
   "cell_type": "markdown",
   "id": "2803ed60-0c4c-4eb8-8929-9c4e9cff15ad",
   "metadata": {},
   "source": [
    ">  **Pregunta Examen**: En la siguiente celda define el valor del parametro `test_size` para dividir los datos en 80% entrenamiento y 20% de pruebas"
   ]
  },
  {
   "cell_type": "code",
   "execution_count": 134,
   "id": "52131358-1309-4d84-97a0-38963c8d4523",
   "metadata": {},
   "outputs": [],
   "source": [
    "X_train, X_test, y_train, y_test = train_test_split(\n",
    "    X, y, test_size=0.20, random_state=42\n",
    ")"
   ]
  },
  {
   "cell_type": "code",
   "execution_count": 135,
   "id": "3553b670-c57d-4ff9-84d2-35653b2f392a",
   "metadata": {},
   "outputs": [
    {
     "name": "stdout",
     "output_type": "stream",
     "text": [
      "total de datos de entrenamiento 1523\n",
      "total de datos de prueba 381\n"
     ]
    }
   ],
   "source": [
    "print(f\"total de datos de entrenamiento {X_train.shape[0]}\")\n",
    "print(f\"total de datos de prueba {X_test.shape[0]}\")"
   ]
  },
  {
   "cell_type": "markdown",
   "id": "ea20ceb2-a36a-4c1b-850b-ad81d2cb3e71",
   "metadata": {},
   "source": [
    "## Experimento 1 - Logistic Regression"
   ]
  },
  {
   "cell_type": "code",
   "execution_count": 109,
   "id": "682ac156-02de-4e82-98fd-f9bfcd4e7eb3",
   "metadata": {},
   "outputs": [],
   "source": [
    "from sklearn.linear_model import LogisticRegression"
   ]
  },
  {
   "cell_type": "markdown",
   "id": "860f0825-7e5c-45ba-b60d-0a122dd47a08",
   "metadata": {},
   "source": [
    "### Definicion del Modelo\n",
    "\n",
    "[Documentacion](https://scikit-learn.org/stable/modules/generated/sklearn.linear_model.LogisticRegression.html)\n",
    "\n",
    ">  **Pregunta Examen**: Define siguientes los hiperparametros, segun tu criterio\n",
    "- max_iter\n",
    "- penalty\n",
    "- C"
   ]
  },
  {
   "cell_type": "code",
   "execution_count": 136,
   "id": "73876a7b-ebd3-4bfd-a206-ca1023a7e84f",
   "metadata": {},
   "outputs": [],
   "source": [
    "\n",
    "modelo_LR = LogisticRegression(\n",
    "    max_iter = 2000, \n",
    "    penalty = 'l2', \n",
    "    C = 0.45 \n",
    ")"
   ]
  },
  {
   "cell_type": "code",
   "execution_count": 137,
   "id": "8cc39189-4ae5-4583-adc3-0305e96cb377",
   "metadata": {},
   "outputs": [
    {
     "data": {
      "text/html": [
       "<style>#sk-container-id-4 {color: black;background-color: white;}#sk-container-id-4 pre{padding: 0;}#sk-container-id-4 div.sk-toggleable {background-color: white;}#sk-container-id-4 label.sk-toggleable__label {cursor: pointer;display: block;width: 100%;margin-bottom: 0;padding: 0.3em;box-sizing: border-box;text-align: center;}#sk-container-id-4 label.sk-toggleable__label-arrow:before {content: \"▸\";float: left;margin-right: 0.25em;color: #696969;}#sk-container-id-4 label.sk-toggleable__label-arrow:hover:before {color: black;}#sk-container-id-4 div.sk-estimator:hover label.sk-toggleable__label-arrow:before {color: black;}#sk-container-id-4 div.sk-toggleable__content {max-height: 0;max-width: 0;overflow: hidden;text-align: left;background-color: #f0f8ff;}#sk-container-id-4 div.sk-toggleable__content pre {margin: 0.2em;color: black;border-radius: 0.25em;background-color: #f0f8ff;}#sk-container-id-4 input.sk-toggleable__control:checked~div.sk-toggleable__content {max-height: 200px;max-width: 100%;overflow: auto;}#sk-container-id-4 input.sk-toggleable__control:checked~label.sk-toggleable__label-arrow:before {content: \"▾\";}#sk-container-id-4 div.sk-estimator input.sk-toggleable__control:checked~label.sk-toggleable__label {background-color: #d4ebff;}#sk-container-id-4 div.sk-label input.sk-toggleable__control:checked~label.sk-toggleable__label {background-color: #d4ebff;}#sk-container-id-4 input.sk-hidden--visually {border: 0;clip: rect(1px 1px 1px 1px);clip: rect(1px, 1px, 1px, 1px);height: 1px;margin: -1px;overflow: hidden;padding: 0;position: absolute;width: 1px;}#sk-container-id-4 div.sk-estimator {font-family: monospace;background-color: #f0f8ff;border: 1px dotted black;border-radius: 0.25em;box-sizing: border-box;margin-bottom: 0.5em;}#sk-container-id-4 div.sk-estimator:hover {background-color: #d4ebff;}#sk-container-id-4 div.sk-parallel-item::after {content: \"\";width: 100%;border-bottom: 1px solid gray;flex-grow: 1;}#sk-container-id-4 div.sk-label:hover label.sk-toggleable__label {background-color: #d4ebff;}#sk-container-id-4 div.sk-serial::before {content: \"\";position: absolute;border-left: 1px solid gray;box-sizing: border-box;top: 0;bottom: 0;left: 50%;z-index: 0;}#sk-container-id-4 div.sk-serial {display: flex;flex-direction: column;align-items: center;background-color: white;padding-right: 0.2em;padding-left: 0.2em;position: relative;}#sk-container-id-4 div.sk-item {position: relative;z-index: 1;}#sk-container-id-4 div.sk-parallel {display: flex;align-items: stretch;justify-content: center;background-color: white;position: relative;}#sk-container-id-4 div.sk-item::before, #sk-container-id-4 div.sk-parallel-item::before {content: \"\";position: absolute;border-left: 1px solid gray;box-sizing: border-box;top: 0;bottom: 0;left: 50%;z-index: -1;}#sk-container-id-4 div.sk-parallel-item {display: flex;flex-direction: column;z-index: 1;position: relative;background-color: white;}#sk-container-id-4 div.sk-parallel-item:first-child::after {align-self: flex-end;width: 50%;}#sk-container-id-4 div.sk-parallel-item:last-child::after {align-self: flex-start;width: 50%;}#sk-container-id-4 div.sk-parallel-item:only-child::after {width: 0;}#sk-container-id-4 div.sk-dashed-wrapped {border: 1px dashed gray;margin: 0 0.4em 0.5em 0.4em;box-sizing: border-box;padding-bottom: 0.4em;background-color: white;}#sk-container-id-4 div.sk-label label {font-family: monospace;font-weight: bold;display: inline-block;line-height: 1.2em;}#sk-container-id-4 div.sk-label-container {text-align: center;}#sk-container-id-4 div.sk-container {/* jupyter's `normalize.less` sets `[hidden] { display: none; }` but bootstrap.min.css set `[hidden] { display: none !important; }` so we also need the `!important` here to be able to override the default hidden behavior on the sphinx rendered scikit-learn.org. See: https://github.com/scikit-learn/scikit-learn/issues/21755 */display: inline-block !important;position: relative;}#sk-container-id-4 div.sk-text-repr-fallback {display: none;}</style><div id=\"sk-container-id-4\" class=\"sk-top-container\"><div class=\"sk-text-repr-fallback\"><pre>LogisticRegression(C=0.45, max_iter=2000)</pre><b>In a Jupyter environment, please rerun this cell to show the HTML representation or trust the notebook. <br />On GitHub, the HTML representation is unable to render, please try loading this page with nbviewer.org.</b></div><div class=\"sk-container\" hidden><div class=\"sk-item\"><div class=\"sk-estimator sk-toggleable\"><input class=\"sk-toggleable__control sk-hidden--visually\" id=\"sk-estimator-id-4\" type=\"checkbox\" checked><label for=\"sk-estimator-id-4\" class=\"sk-toggleable__label sk-toggleable__label-arrow\">LogisticRegression</label><div class=\"sk-toggleable__content\"><pre>LogisticRegression(C=0.45, max_iter=2000)</pre></div></div></div></div></div>"
      ],
      "text/plain": [
       "LogisticRegression(C=0.45, max_iter=2000)"
      ]
     },
     "execution_count": 137,
     "metadata": {},
     "output_type": "execute_result"
    }
   ],
   "source": [
    "modelo_LR.fit(X_train,y_train)"
   ]
  },
  {
   "cell_type": "markdown",
   "id": "20d1f829-aff6-4daf-882e-e4338f04e8f6",
   "metadata": {},
   "source": [
    "## Evaluando el Modelo\n",
    "\n",
    "Para evaluar el modelo vamos autilizar el dataset de entrenamiento y de pruebas(el conjunto de datos que no ha visto el modelo) y validar si hay sobreajuste."
   ]
  },
  {
   "cell_type": "code",
   "execution_count": 138,
   "id": "466cbeee-f588-42a1-8297-aa68ff217545",
   "metadata": {},
   "outputs": [],
   "source": [
    "## Entrenamiento\n",
    "pred_train = modelo_LR.predict(X_train)\n",
    "## Pruebas\n",
    "pred_test = modelo_LR.predict(X_test)"
   ]
  },
  {
   "cell_type": "markdown",
   "id": "9f2d776f-4809-45f6-9d4c-cf73c85c3c28",
   "metadata": {},
   "source": [
    "Para las metricas de evaluación se creo un modulo de python llamado `bioinf_utils`.\n",
    "En este modulo estan definidas las finciones para calcular \n",
    " - Matriz de confusion\n",
    " - Scores( precision, recall, f1)\n",
    " - ROC Curve\n",
    " \n",
    " Importamos el modulo:"
   ]
  },
  {
   "cell_type": "code",
   "execution_count": 98,
   "id": "3369e341-9742-444e-8cf3-5be0d554e860",
   "metadata": {},
   "outputs": [],
   "source": [
    "import bioinf_utils"
   ]
  },
  {
   "cell_type": "markdown",
   "id": "d3f1822e-23e6-4241-9397-57a979e8c07a",
   "metadata": {},
   "source": [
    "### Matriz de confusión"
   ]
  },
  {
   "cell_type": "code",
   "execution_count": 139,
   "id": "c46f50ae-c544-4a5d-8ffa-a97da550197a",
   "metadata": {},
   "outputs": [
    {
     "data": {
      "image/png": "[encoded data removed]",
      "text/plain": [
       "<Figure size 500x500 with 1 Axes>"
      ]
     },
     "metadata": {},
     "output_type": "display_data"
    }
   ],
   "source": [
    "### Entrenamiento\n",
    "bioinf_utils.matriz_confucion(pred_train, y_train)"
   ]
  },
  {
   "cell_type": "code",
   "execution_count": 140,
   "id": "df7e5cba-7996-4877-89a7-c0904386e596",
   "metadata": {},
   "outputs": [
    {
     "data": {
      "image/png": "[encoded data removed]",
      "text/plain": [
       "<Figure size 500x500 with 1 Axes>"
      ]
     },
     "metadata": {},
     "output_type": "display_data"
    }
   ],
   "source": [
    "### Pruebas\n",
    "bioinf_utils.matriz_confucion(pred_test, y_test)"
   ]
  },
  {
   "cell_type": "markdown",
   "id": "8030b169-b34b-4f2a-95b2-e98f093e502a",
   "metadata": {},
   "source": [
    "### Precisión\n",
    "\n",
    "$precision =  \\frac{TP}{TP+FP} $\n",
    "\n",
    "### Recall (Sensitividad)\n",
    "\n",
    "$recall =  \\frac{TP}{TP+FN} $\n",
    "\n",
    "### F1 score"
   ]
  },
  {
   "cell_type": "code",
   "execution_count": 141,
   "id": "a03a1f3b-b913-42ff-8989-0bae280e62be",
   "metadata": {},
   "outputs": [
    {
     "name": "stdout",
     "output_type": "stream",
     "text": [
      "Entrenamiento | Precision: 55.05 % | Recall: 64.40% | f1 Score:59.36%\n",
      "Pruebas | Precision: 55.78 % | Recall: 60.29% | f1 Score:57.95%\n"
     ]
    }
   ],
   "source": [
    "precision_train, sensitividad_train, f1_train = bioinf_utils.scores(pred_train, y_train, label=\"Entrenamiento\")\n",
    "precision_test, sensitividad_test, f1_test = bioinf_utils.scores(pred_test, y_test, label=\"Pruebas\")"
   ]
  },
  {
   "cell_type": "markdown",
   "id": "e0169b21-a5de-4267-9015-f8ca9ef66581",
   "metadata": {},
   "source": [
    "### ROC Curve\n",
    "\n",
    "Comparemos como se compoarta el clasificador con los datos de Prueba"
   ]
  },
  {
   "cell_type": "code",
   "execution_count": 142,
   "id": "b832ed98-c1be-40e6-a3f0-50533f55cd50",
   "metadata": {},
   "outputs": [
    {
     "data": {
      "image/png": "[encoded data removed]",
      "text/plain": [
       "<Figure size 640x480 with 1 Axes>"
      ]
     },
     "metadata": {},
     "output_type": "display_data"
    }
   ],
   "source": [
    "bioinf_utils.curva_roc(\n",
    "    preds=[pred_train, pred_test],\n",
    "    y=[y_train, y_test],\n",
    "    labels=[\"Entrenamiento\", \"Prueba\"]\n",
    ")"
   ]
  },
  {
   "cell_type": "markdown",
   "id": "8cc1c2ec-dba0-4dcc-be16-92745a335d8c",
   "metadata": {},
   "source": [
    "## Modelo de Arbol"
   ]
  },
  {
   "cell_type": "code",
   "execution_count": 143,
   "id": "ba107f76-7f0f-4403-a155-d996cdb6f194",
   "metadata": {},
   "outputs": [],
   "source": [
    "from sklearn.tree import DecisionTreeClassifier\n",
    "from sklearn import tree"
   ]
  },
  {
   "cell_type": "markdown",
   "id": "7b8d6e4c-c84f-4364-9c1f-fe490f379e8e",
   "metadata": {},
   "source": [
    "### Definicion del Modelo\n",
    "\n",
    "[Documentacion](https://scikit-learn.org/stable/modules/generated/sklearn.tree.DecisionTreeClassifier.html)\n",
    "\n",
    ">  **Pregunta Examen**: Vamos a realizar 3 experimentos, con tres valores diferentes del hiperparametro\n",
    "- max_depth\n",
    "\n",
    "> Debemos anotar en Markown los resultados de la funcion `scores`"
   ]
  },
  {
   "cell_type": "code",
   "execution_count": 184,
   "id": "0d8f86e6-1024-4c55-b62a-b052f3278035",
   "metadata": {},
   "outputs": [],
   "source": [
    "modelo_arbol = DecisionTreeClassifier(\n",
    "    max_depth= 7\n",
    ")"
   ]
  },
  {
   "cell_type": "code",
   "execution_count": 185,
   "id": "b6bd4109-3615-4814-bbbb-c4e22188adb9",
   "metadata": {},
   "outputs": [
    {
     "data": {
      "text/html": [
       "<style>#sk-container-id-11 {color: black;background-color: white;}#sk-container-id-11 pre{padding: 0;}#sk-container-id-11 div.sk-toggleable {background-color: white;}#sk-container-id-11 label.sk-toggleable__label {cursor: pointer;display: block;width: 100%;margin-bottom: 0;padding: 0.3em;box-sizing: border-box;text-align: center;}#sk-container-id-11 label.sk-toggleable__label-arrow:before {content: \"▸\";float: left;margin-right: 0.25em;color: #696969;}#sk-container-id-11 label.sk-toggleable__label-arrow:hover:before {color: black;}#sk-container-id-11 div.sk-estimator:hover label.sk-toggleable__label-arrow:before {color: black;}#sk-container-id-11 div.sk-toggleable__content {max-height: 0;max-width: 0;overflow: hidden;text-align: left;background-color: #f0f8ff;}#sk-container-id-11 div.sk-toggleable__content pre {margin: 0.2em;color: black;border-radius: 0.25em;background-color: #f0f8ff;}#sk-container-id-11 input.sk-toggleable__control:checked~div.sk-toggleable__content {max-height: 200px;max-width: 100%;overflow: auto;}#sk-container-id-11 input.sk-toggleable__control:checked~label.sk-toggleable__label-arrow:before {content: \"▾\";}#sk-container-id-11 div.sk-estimator input.sk-toggleable__control:checked~label.sk-toggleable__label {background-color: #d4ebff;}#sk-container-id-11 div.sk-label input.sk-toggleable__control:checked~label.sk-toggleable__label {background-color: #d4ebff;}#sk-container-id-11 input.sk-hidden--visually {border: 0;clip: rect(1px 1px 1px 1px);clip: rect(1px, 1px, 1px, 1px);height: 1px;margin: -1px;overflow: hidden;padding: 0;position: absolute;width: 1px;}#sk-container-id-11 div.sk-estimator {font-family: monospace;background-color: #f0f8ff;border: 1px dotted black;border-radius: 0.25em;box-sizing: border-box;margin-bottom: 0.5em;}#sk-container-id-11 div.sk-estimator:hover {background-color: #d4ebff;}#sk-container-id-11 div.sk-parallel-item::after {content: \"\";width: 100%;border-bottom: 1px solid gray;flex-grow: 1;}#sk-container-id-11 div.sk-label:hover label.sk-toggleable__label {background-color: #d4ebff;}#sk-container-id-11 div.sk-serial::before {content: \"\";position: absolute;border-left: 1px solid gray;box-sizing: border-box;top: 0;bottom: 0;left: 50%;z-index: 0;}#sk-container-id-11 div.sk-serial {display: flex;flex-direction: column;align-items: center;background-color: white;padding-right: 0.2em;padding-left: 0.2em;position: relative;}#sk-container-id-11 div.sk-item {position: relative;z-index: 1;}#sk-container-id-11 div.sk-parallel {display: flex;align-items: stretch;justify-content: center;background-color: white;position: relative;}#sk-container-id-11 div.sk-item::before, #sk-container-id-11 div.sk-parallel-item::before {content: \"\";position: absolute;border-left: 1px solid gray;box-sizing: border-box;top: 0;bottom: 0;left: 50%;z-index: -1;}#sk-container-id-11 div.sk-parallel-item {display: flex;flex-direction: column;z-index: 1;position: relative;background-color: white;}#sk-container-id-11 div.sk-parallel-item:first-child::after {align-self: flex-end;width: 50%;}#sk-container-id-11 div.sk-parallel-item:last-child::after {align-self: flex-start;width: 50%;}#sk-container-id-11 div.sk-parallel-item:only-child::after {width: 0;}#sk-container-id-11 div.sk-dashed-wrapped {border: 1px dashed gray;margin: 0 0.4em 0.5em 0.4em;box-sizing: border-box;padding-bottom: 0.4em;background-color: white;}#sk-container-id-11 div.sk-label label {font-family: monospace;font-weight: bold;display: inline-block;line-height: 1.2em;}#sk-container-id-11 div.sk-label-container {text-align: center;}#sk-container-id-11 div.sk-container {/* jupyter's `normalize.less` sets `[hidden] { display: none; }` but bootstrap.min.css set `[hidden] { display: none !important; }` so we also need the `!important` here to be able to override the default hidden behavior on the sphinx rendered scikit-learn.org. See: https://github.com/scikit-learn/scikit-learn/issues/21755 */display: inline-block !important;position: relative;}#sk-container-id-11 div.sk-text-repr-fallback {display: none;}</style><div id=\"sk-container-id-11\" class=\"sk-top-container\"><div class=\"sk-text-repr-fallback\"><pre>DecisionTreeClassifier(max_depth=7)</pre><b>In a Jupyter environment, please rerun this cell to show the HTML representation or trust the notebook. <br />On GitHub, the HTML representation is unable to render, please try loading this page with nbviewer.org.</b></div><div class=\"sk-container\" hidden><div class=\"sk-item\"><div class=\"sk-estimator sk-toggleable\"><input class=\"sk-toggleable__control sk-hidden--visually\" id=\"sk-estimator-id-11\" type=\"checkbox\" checked><label for=\"sk-estimator-id-11\" class=\"sk-toggleable__label sk-toggleable__label-arrow\">DecisionTreeClassifier</label><div class=\"sk-toggleable__content\"><pre>DecisionTreeClassifier(max_depth=7)</pre></div></div></div></div></div>"
      ],
      "text/plain": [
       "DecisionTreeClassifier(max_depth=7)"
      ]
     },
     "execution_count": 185,
     "metadata": {},
     "output_type": "execute_result"
    }
   ],
   "source": [
    "modelo_arbol.fit(X_train,y_train)"
   ]
  },
  {
   "cell_type": "code",
   "execution_count": 186,
   "id": "13809eb1-ab30-4435-ab12-33fdc8d5871d",
   "metadata": {},
   "outputs": [
    {
     "data": {
      "image/png": "[encoded data removed]",
      "text/plain": [
       "<Figure size 1500x1500 with 1 Axes>"
      ]
     },
     "metadata": {},
     "output_type": "display_data"
    }
   ],
   "source": [
    "## Graficamos el arbol, tomemos en cuenta que si tiene mucha profundidad no lo podremos visualizar\n",
    "plt.figure(figsize=(15,15))\n",
    "tree.plot_tree(modelo_arbol)\n",
    "plt.show()"
   ]
  },
  {
   "cell_type": "code",
   "execution_count": 187,
   "id": "5bfcfe68-c1dd-4ec4-8ee5-1520220ba0c2",
   "metadata": {},
   "outputs": [],
   "source": [
    "## Entrenamiento\n",
    "pred_train = modelo_arbol.predict(X_train)\n",
    "## Pruebas\n",
    "pred_test = modelo_arbol.predict(X_test)"
   ]
  },
  {
   "cell_type": "markdown",
   "id": "52845728-951d-45e2-8eff-00efb491b641",
   "metadata": {},
   "source": [
    "### Evaluando el modelo"
   ]
  },
  {
   "cell_type": "code",
   "execution_count": 188,
   "id": "a896e598-7182-47b3-b396-7b04b1ed99a2",
   "metadata": {},
   "outputs": [
    {
     "name": "stdout",
     "output_type": "stream",
     "text": [
      "Entrenamiento | Precision: 77.83 % | Recall: 73.55% | f1 Score:75.63%\n",
      "Pruebas | Precision: 61.90 % | Recall: 54.17% | f1 Score:57.78%\n"
     ]
    }
   ],
   "source": [
    "precision_train, sensitividad_train, f1_train = bioinf_utils.scores(pred_train, y_train, label=\"Entrenamiento\")\n",
    "precision_test, sensitividad_test, f1_test = bioinf_utils.scores(pred_test, y_test, label=\"Pruebas\")"
   ]
  },
  {
   "cell_type": "code",
   "execution_count": 190,
   "id": "e7acd2f6-6ce1-4d2a-9d6b-845dc7bf68c6",
   "metadata": {},
   "outputs": [
    {
     "data": {
      "image/png": "[encoded data removed]",
      "text/plain": [
       "<Figure size 640x480 with 1 Axes>"
      ]
     },
     "metadata": {},
     "output_type": "display_data"
    }
   ],
   "source": [
    "bioinf_utils.curva_roc(\n",
    "    preds=[pred_train, pred_test],\n",
    "    y=[y_train, y_test],\n",
    "    labels=[\"Entrenamiento\", \"Prueba\"]\n",
    ")"
   ]
  },
  {
   "cell_type": "markdown",
   "id": "45798cfd-fcc3-43ae-9d10-cd5c73e471f9",
   "metadata": {
    "tags": []
   },
   "source": [
    "## RESUTADOS AQUI\n",
    "\n",
    "### Experimento 1 - max_depth = 4, entrenamiento f1 score: 60.14%, pruebas f1 score: 51.76%\n",
    "\n",
    "### Experimento 2 - max_depth = 6, entrenamiento f1 score: 67.90%, pruebas f1 score: 56.64%\n",
    "\n",
    "### Experimento 3 - max_depth= 7, entrenamiento f1 score: 75.63%, pruebas: f1 score: 57.78%\n",
    "\n",
    "> **Pregunta Examen**: Cual fue el mejor Modelo en los 3 experimentos??"
   ]
  },
  {
   "cell_type": "markdown",
   "id": "f2e38b1f-a472-4f87-8dce-bd769c2ffb32",
   "metadata": {},
   "source": [
    "El mejor modelo es el experimento 3 con max_depth=7 porque obtenemos los mejores valores de f1 score para entrenamiento y pruebas."
   ]
  },
  {
   "cell_type": "code",
   "execution_count": null,
   "id": "ffca31fd-dd1a-4a99-a757-12ab79dcaf49",
   "metadata": {},
   "outputs": [],
   "source": []
  },
  {
   "cell_type": "markdown",
   "id": "930a92f4-fc3f-46cd-a8da-e33b55de7e3e",
   "metadata": {},
   "source": [
    "# 1) PUNTOS EXTRA"
   ]
  },
  {
   "cell_type": "markdown",
   "id": "ab5cbab3-32ca-4d23-b5e2-670776c9684f",
   "metadata": {},
   "source": [
    "## Red Neuronal"
   ]
  },
  {
   "cell_type": "code",
   "execution_count": 162,
   "id": "d54e691f-e277-452e-a047-19ef74e5439c",
   "metadata": {},
   "outputs": [],
   "source": [
    "from sklearn.neural_network import MLPClassifier"
   ]
  },
  {
   "cell_type": "code",
   "execution_count": 163,
   "id": "0d916f6c-4b64-492c-9dc3-579482106076",
   "metadata": {},
   "outputs": [
    {
     "data": {
      "text/plain": [
       "(1523, 17)"
      ]
     },
     "execution_count": 163,
     "metadata": {},
     "output_type": "execute_result"
    }
   ],
   "source": [
    "X_train.shape"
   ]
  },
  {
   "cell_type": "code",
   "execution_count": 164,
   "id": "6860755d-a56e-4281-a655-e781a52ff725",
   "metadata": {},
   "outputs": [],
   "source": [
    "nn = MLPClassifier(\n",
    "    solver='sgd', \n",
    "    alpha=1e-5,\n",
    "    learning_rate='constant',\n",
    "    learning_rate_init= 0.05,\n",
    "    hidden_layer_sizes=(5,2), \n",
    "    random_state=1,\n",
    "    max_iter = 2000,\n",
    "    early_stopping=True,\n",
    "    verbose=True\n",
    ")"
   ]
  },
  {
   "cell_type": "markdown",
   "id": "38bea850-acac-48d6-9932-c94324e77c26",
   "metadata": {},
   "source": [
    ">  **Puntos Extra**: Explica los hiperparametros"
   ]
  },
  {
   "cell_type": "markdown",
   "id": "9894f082-055d-46f3-81ff-94c5220ad754",
   "metadata": {},
   "source": [
    "1. Solver: especifica el algoritmo de optimización que se usa para minimizar la funcion coste; sgd quiere decir que se esta usando el decenso del gradiente estocastico.\n",
    "2. alpha: indica la regularización que se usa para evitar el sobreajuste.  \n",
    "3. learning_rate: es el hiperparametro que indica la tasa de aprendizaje que se usa durante el entrenamiento.  \n",
    "4. learning_rate_init: establece la tasa de aprendizaje inicial.   \n",
    "5. hidden_layer_size: es una tupla que especifica el número de capas ocultas y el número de neuronas. Dado que en este caso la tupla es (5,2) quiere decir que hay dos capas ocultas, la primera con 5 neuronas y la segunda con 2 neuronas. \n",
    "6. random_state: dtermina la generación de números aleatorios durante el entrenamiento. \n",
    "7. max_iter: el número máximo de iteraciones durante el entrenamiento. \n",
    "8. early_stopping: detiene el entrenamiento del modelo antes de llegar al número máximo de iteraciones para evitar el sobreajuste. Lo que hacce es comparar el rendimiento del modelo con un conjunto de datos de validación después de cada iteración y lo detiene cuando el rendimiento deja de mejorar.       \n",
    "9. verbose: indica si debe imprimir información durante el entrenamiento. Como en este ejercicio es igual a True entonces se imprimira información despues de cada iteración del modelo.    "
   ]
  },
  {
   "cell_type": "code",
   "execution_count": 165,
   "id": "d3f28581-5003-4e13-84d0-5aef0425949d",
   "metadata": {},
   "outputs": [
    {
     "name": "stdout",
     "output_type": "stream",
     "text": [
      "Iteration 1, loss = 0.67018078\n",
      "Validation score: 0.588235\n",
      "Iteration 2, loss = 0.67663675\n",
      "Validation score: 0.607843\n",
      "Iteration 3, loss = 0.66917776\n",
      "Validation score: 0.601307\n",
      "Iteration 4, loss = 0.64207948\n",
      "Validation score: 0.633987\n",
      "Iteration 5, loss = 0.64904819\n",
      "Validation score: 0.627451\n",
      "Iteration 6, loss = 0.64399858\n",
      "Validation score: 0.633987\n",
      "Iteration 7, loss = 0.63820131\n",
      "Validation score: 0.581699\n",
      "Iteration 8, loss = 0.67216737\n",
      "Validation score: 0.699346\n",
      "Iteration 9, loss = 0.63411224\n",
      "Validation score: 0.627451\n",
      "Iteration 10, loss = 0.63639147\n",
      "Validation score: 0.601307\n",
      "Iteration 11, loss = 0.66834496\n",
      "Validation score: 0.647059\n",
      "Iteration 12, loss = 0.65504293\n",
      "Validation score: 0.653595\n",
      "Iteration 13, loss = 0.63505795\n",
      "Validation score: 0.640523\n",
      "Iteration 14, loss = 0.65450378\n",
      "Validation score: 0.633987\n",
      "Iteration 15, loss = 0.64293636\n",
      "Validation score: 0.712418\n",
      "Iteration 16, loss = 0.64970968\n",
      "Validation score: 0.679739\n",
      "Iteration 17, loss = 0.64517542\n",
      "Validation score: 0.594771\n",
      "Iteration 18, loss = 0.65640080\n",
      "Validation score: 0.568627\n",
      "Iteration 19, loss = 0.70213066\n",
      "Validation score: 0.640523\n",
      "Iteration 20, loss = 0.63798761\n",
      "Validation score: 0.640523\n",
      "Iteration 21, loss = 0.69348103\n",
      "Validation score: 0.692810\n",
      "Iteration 22, loss = 0.63359785\n",
      "Validation score: 0.679739\n",
      "Iteration 23, loss = 0.64656428\n",
      "Validation score: 0.660131\n",
      "Iteration 24, loss = 0.64460708\n",
      "Validation score: 0.705882\n",
      "Iteration 25, loss = 0.63436095\n",
      "Validation score: 0.653595\n",
      "Iteration 26, loss = 0.64851023\n",
      "Validation score: 0.679739\n",
      "Validation score did not improve more than tol=0.000100 for 10 consecutive epochs. Stopping.\n"
     ]
    },
    {
     "data": {
      "text/html": [
       "<style>#sk-container-id-8 {color: black;background-color: white;}#sk-container-id-8 pre{padding: 0;}#sk-container-id-8 div.sk-toggleable {background-color: white;}#sk-container-id-8 label.sk-toggleable__label {cursor: pointer;display: block;width: 100%;margin-bottom: 0;padding: 0.3em;box-sizing: border-box;text-align: center;}#sk-container-id-8 label.sk-toggleable__label-arrow:before {content: \"▸\";float: left;margin-right: 0.25em;color: #696969;}#sk-container-id-8 label.sk-toggleable__label-arrow:hover:before {color: black;}#sk-container-id-8 div.sk-estimator:hover label.sk-toggleable__label-arrow:before {color: black;}#sk-container-id-8 div.sk-toggleable__content {max-height: 0;max-width: 0;overflow: hidden;text-align: left;background-color: #f0f8ff;}#sk-container-id-8 div.sk-toggleable__content pre {margin: 0.2em;color: black;border-radius: 0.25em;background-color: #f0f8ff;}#sk-container-id-8 input.sk-toggleable__control:checked~div.sk-toggleable__content {max-height: 200px;max-width: 100%;overflow: auto;}#sk-container-id-8 input.sk-toggleable__control:checked~label.sk-toggleable__label-arrow:before {content: \"▾\";}#sk-container-id-8 div.sk-estimator input.sk-toggleable__control:checked~label.sk-toggleable__label {background-color: #d4ebff;}#sk-container-id-8 div.sk-label input.sk-toggleable__control:checked~label.sk-toggleable__label {background-color: #d4ebff;}#sk-container-id-8 input.sk-hidden--visually {border: 0;clip: rect(1px 1px 1px 1px);clip: rect(1px, 1px, 1px, 1px);height: 1px;margin: -1px;overflow: hidden;padding: 0;position: absolute;width: 1px;}#sk-container-id-8 div.sk-estimator {font-family: monospace;background-color: #f0f8ff;border: 1px dotted black;border-radius: 0.25em;box-sizing: border-box;margin-bottom: 0.5em;}#sk-container-id-8 div.sk-estimator:hover {background-color: #d4ebff;}#sk-container-id-8 div.sk-parallel-item::after {content: \"\";width: 100%;border-bottom: 1px solid gray;flex-grow: 1;}#sk-container-id-8 div.sk-label:hover label.sk-toggleable__label {background-color: #d4ebff;}#sk-container-id-8 div.sk-serial::before {content: \"\";position: absolute;border-left: 1px solid gray;box-sizing: border-box;top: 0;bottom: 0;left: 50%;z-index: 0;}#sk-container-id-8 div.sk-serial {display: flex;flex-direction: column;align-items: center;background-color: white;padding-right: 0.2em;padding-left: 0.2em;position: relative;}#sk-container-id-8 div.sk-item {position: relative;z-index: 1;}#sk-container-id-8 div.sk-parallel {display: flex;align-items: stretch;justify-content: center;background-color: white;position: relative;}#sk-container-id-8 div.sk-item::before, #sk-container-id-8 div.sk-parallel-item::before {content: \"\";position: absolute;border-left: 1px solid gray;box-sizing: border-box;top: 0;bottom: 0;left: 50%;z-index: -1;}#sk-container-id-8 div.sk-parallel-item {display: flex;flex-direction: column;z-index: 1;position: relative;background-color: white;}#sk-container-id-8 div.sk-parallel-item:first-child::after {align-self: flex-end;width: 50%;}#sk-container-id-8 div.sk-parallel-item:last-child::after {align-self: flex-start;width: 50%;}#sk-container-id-8 div.sk-parallel-item:only-child::after {width: 0;}#sk-container-id-8 div.sk-dashed-wrapped {border: 1px dashed gray;margin: 0 0.4em 0.5em 0.4em;box-sizing: border-box;padding-bottom: 0.4em;background-color: white;}#sk-container-id-8 div.sk-label label {font-family: monospace;font-weight: bold;display: inline-block;line-height: 1.2em;}#sk-container-id-8 div.sk-label-container {text-align: center;}#sk-container-id-8 div.sk-container {/* jupyter's `normalize.less` sets `[hidden] { display: none; }` but bootstrap.min.css set `[hidden] { display: none !important; }` so we also need the `!important` here to be able to override the default hidden behavior on the sphinx rendered scikit-learn.org. See: https://github.com/scikit-learn/scikit-learn/issues/21755 */display: inline-block !important;position: relative;}#sk-container-id-8 div.sk-text-repr-fallback {display: none;}</style><div id=\"sk-container-id-8\" class=\"sk-top-container\"><div class=\"sk-text-repr-fallback\"><pre>MLPClassifier(alpha=1e-05, early_stopping=True, hidden_layer_sizes=(5, 2),\n",
       "              learning_rate_init=0.05, max_iter=2000, random_state=1,\n",
       "              solver=&#x27;sgd&#x27;, verbose=True)</pre><b>In a Jupyter environment, please rerun this cell to show the HTML representation or trust the notebook. <br />On GitHub, the HTML representation is unable to render, please try loading this page with nbviewer.org.</b></div><div class=\"sk-container\" hidden><div class=\"sk-item\"><div class=\"sk-estimator sk-toggleable\"><input class=\"sk-toggleable__control sk-hidden--visually\" id=\"sk-estimator-id-8\" type=\"checkbox\" checked><label for=\"sk-estimator-id-8\" class=\"sk-toggleable__label sk-toggleable__label-arrow\">MLPClassifier</label><div class=\"sk-toggleable__content\"><pre>MLPClassifier(alpha=1e-05, early_stopping=True, hidden_layer_sizes=(5, 2),\n",
       "              learning_rate_init=0.05, max_iter=2000, random_state=1,\n",
       "              solver=&#x27;sgd&#x27;, verbose=True)</pre></div></div></div></div></div>"
      ],
      "text/plain": [
       "MLPClassifier(alpha=1e-05, early_stopping=True, hidden_layer_sizes=(5, 2),\n",
       "              learning_rate_init=0.05, max_iter=2000, random_state=1,\n",
       "              solver='sgd', verbose=True)"
      ]
     },
     "execution_count": 165,
     "metadata": {},
     "output_type": "execute_result"
    }
   ],
   "source": [
    "nn.fit(X_train, y_train)"
   ]
  },
  {
   "cell_type": "code",
   "execution_count": 166,
   "id": "ba203535-f802-4a35-a865-66cb6768969f",
   "metadata": {},
   "outputs": [],
   "source": [
    "## Entrenamiento\n",
    "pred_train = nn.predict(X_train)\n",
    "## Pruebas\n",
    "pred_test = nn.predict(X_test)"
   ]
  },
  {
   "cell_type": "code",
   "execution_count": 167,
   "id": "54dbf3c1-356a-4e59-bdaf-25413ec0e34a",
   "metadata": {},
   "outputs": [
    {
     "data": {
      "text/plain": [
       "(1523,)"
      ]
     },
     "execution_count": 167,
     "metadata": {},
     "output_type": "execute_result"
    }
   ],
   "source": [
    "pred_train.shape"
   ]
  },
  {
   "cell_type": "code",
   "execution_count": 168,
   "id": "0153dd31-2e47-431e-ba1f-f74f725b68c3",
   "metadata": {},
   "outputs": [
    {
     "data": {
      "text/plain": [
       "(381,)"
      ]
     },
     "execution_count": 168,
     "metadata": {},
     "output_type": "execute_result"
    }
   ],
   "source": [
    "pred_test.shape"
   ]
  },
  {
   "cell_type": "code",
   "execution_count": 169,
   "id": "e03b5801-4323-4bfc-a2b4-33f6642b338c",
   "metadata": {},
   "outputs": [],
   "source": [
    "from sklearn.metrics import roc_auc_score, precision_score, recall_score, f1_score, confusion_matrix, roc_curve"
   ]
  },
  {
   "cell_type": "code",
   "execution_count": 170,
   "id": "f8d441ae-86be-4c68-a694-7d548c7f9093",
   "metadata": {},
   "outputs": [],
   "source": [
    "fpr, tpr, tr = roc_curve(pred_train, y_train)"
   ]
  },
  {
   "cell_type": "code",
   "execution_count": 171,
   "id": "5bfdcfca-d731-4b00-9fdb-fda2739be41b",
   "metadata": {},
   "outputs": [
    {
     "data": {
      "image/png": "[encoded data removed]",
      "text/plain": [
       "<Figure size 640x480 with 1 Axes>"
      ]
     },
     "metadata": {},
     "output_type": "display_data"
    }
   ],
   "source": [
    "bioinf_utils.curva_roc(\n",
    "    preds=[pred_train, pred_test],\n",
    "    y=[y_train, y_test],\n",
    "    labels=[\"Entrenamiento\", \"Prueba\"]\n",
    ")"
   ]
  },
  {
   "cell_type": "markdown",
   "id": "9ee86ec6-9743-421f-8a97-48e261913eb9",
   "metadata": {},
   "source": [
    "\n",
    "# 2) PUNTOS EXTRA\n",
    "- Crea una cuenta de GitHub\n",
    "- Cea un repositorio y sube tu examen final\n",
    "- Entrega tu examen enviandome el link de GitHub"
   ]
  },
  {
   "cell_type": "code",
   "execution_count": null,
   "id": "6e387c36-e579-4bdf-ae64-411e49abcfb7",
   "metadata": {},
   "outputs": [],
   "source": []
  }
 ],
 "metadata": {
  "kernelspec": {
   "display_name": "Python 3 (ipykernel)",
   "language": "python",
   "name": "python3"
  },
  "language_info": {
   "codemirror_mode": {
    "name": "ipython",
    "version": 3
   },
   "file_extension": ".py",
   "mimetype": "text/x-python",
   "name": "python",
   "nbconvert_exporter": "python",
   "pygments_lexer": "ipython3",
   "version": "3.9.13"
  }
 },
 "nbformat": 4,
 "nbformat_minor": 5
}
